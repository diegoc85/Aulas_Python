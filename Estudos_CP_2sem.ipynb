{
 "cells": [
  {
   "cell_type": "code",
   "execution_count": null,
   "metadata": {},
   "outputs": [],
   "source": [
    "lista = [('Diego', 35, 'São Paulo'), ('Carol', '30', 'São Paulo')] #lista de tuplas\n",
    "cont = 0\n",
    "\n",
    "for l in lista:\n",
    "    cont += 1\n",
    "    nome, idade, cidade = l\n",
    "    print(f'O nome {cont} é: {nome}')\n",
    "    print(f'A idade é: {idade}')\n",
    "    print(f\"A cidade onde mora é: {cidade}\")\n"
   ]
  },
  {
   "cell_type": "code",
   "execution_count": 14,
   "metadata": {},
   "outputs": [],
   "source": [
    "import pandas as pd"
   ]
  },
  {
   "cell_type": "code",
   "execution_count": null,
   "metadata": {},
   "outputs": [],
   "source": [
    "frutas = ['maçã', 'banana', 'melão', 'uva']\n",
    "df_frutas = pd.DataFrame(frutas, columns=['Frutas'])\n",
    "df_frutas"
   ]
  },
  {
   "cell_type": "code",
   "execution_count": null,
   "metadata": {},
   "outputs": [],
   "source": [
    "# Conversão de lista para DataFrame\n",
    "colunas = ['Nome', 'Idade', 'Cidade']\n",
    "df_lista = pd.DataFrame(lista,columns= colunas)\n",
    "df_lista"
   ]
  },
  {
   "cell_type": "code",
   "execution_count": null,
   "metadata": {},
   "outputs": [],
   "source": [
    "lista = [('Diego', 35, 'São Paulo'), ('Carol', '30', 'São Paulo')] \n",
    "lista.insert(2,('Rafael', 20, 'São Paulo'))\n"
   ]
  },
  {
   "cell_type": "code",
   "execution_count": null,
   "metadata": {},
   "outputs": [],
   "source": [
    "#insert e remove\n",
    "\n",
    "frutas = ['maçã', 'banana', 'melão', 'uva']\n",
    "frutas.insert(1, 'Abacaxi')\n",
    "frutas.remove('banana')\n"
   ]
  },
  {
   "cell_type": "code",
   "execution_count": null,
   "metadata": {},
   "outputs": [],
   "source": [
    "tupla = ('Flamengo', 'Fluminense', 'São Paulo','Corinthians')\n",
    "\n",
    "for t in range (1,len(tupla)):\n",
    "    print (f'O time {t} é {tupla[t]}')\n",
    "\n",
    "times = list(tupla)\n",
    "times.insert(0,'Botafogo')\n",
    "nova_tupla = tuple(times)\n",
    "\n",
    "\n",
    "\n",
    "\n"
   ]
  },
  {
   "cell_type": "code",
   "execution_count": null,
   "metadata": {},
   "outputs": [],
   "source": [
    "tuplinha = (['Flamengo', 'Fluminense', 'Coritiba'], [1,2,3])\n",
    "\n",
    "for t in tuplinha:\n",
    "    time1, time2, time3 = t\n",
    "    #print(time1, time2, time3)\n",
    "    "
   ]
  },
  {
   "cell_type": "code",
   "execution_count": 64,
   "metadata": {},
   "outputs": [
    {
     "data": {
      "text/plain": [
       "([4, 5, 6], ['Flamengo', 'Fluminense', 'Coritiba'], [1, 2, 3])"
      ]
     },
     "execution_count": 64,
     "metadata": {},
     "output_type": "execute_result"
    }
   ],
   "source": [
    "nova_lissta = list(tuplinha)\n",
    "nova_lissta.insert(0, [4,5,6])\n",
    "nova2_tupla = tuple(nova_lissta)\n",
    "nova2_tupla"
   ]
  },
  {
   "cell_type": "code",
   "execution_count": 67,
   "metadata": {},
   "outputs": [
    {
     "name": "stdout",
     "output_type": "stream",
     "text": [
      "A área do retângulo é: 200.0\n"
     ]
    }
   ],
   "source": [
    "#Função dentro de função\n",
    "def calcular_area (largura, comprimento):\n",
    "    area = largura * comprimento\n",
    "    return area\n",
    "\n",
    "def print_area():\n",
    "    print('A área do retângulo é:', ar)\n",
    "\n",
    "largura = float(input('Digite o valor da largura:'))\n",
    "comprimento = float(input('Digite o valor do comprimento:'))\n",
    "\n",
    "ar = calcular_area(largura, comprimento)\n",
    "print_area()"
   ]
  },
  {
   "cell_type": "code",
   "execution_count": 68,
   "metadata": {},
   "outputs": [
    {
     "name": "stdout",
     "output_type": "stream",
     "text": [
      "A soma dos valores é: 20.0\n"
     ]
    }
   ],
   "source": [
    "def soma_valores(a,b):\n",
    "    soma = a + b\n",
    "    return soma\n",
    "\n",
    "def print_soma():\n",
    "    print('A soma dos valores é:',sv)\n",
    "\n",
    "a = float(input('Digite o valor de a:'))\n",
    "b = float(input('Digite o valor de b:'))\n",
    "\n",
    "sv = soma_valores(a,b)\n",
    "print_soma()\n",
    "\n"
   ]
  },
  {
   "cell_type": "code",
   "execution_count": 69,
   "metadata": {},
   "outputs": [],
   "source": [
    "import math"
   ]
  },
  {
   "cell_type": "code",
   "execution_count": 73,
   "metadata": {},
   "outputs": [
    {
     "name": "stdout",
     "output_type": "stream",
     "text": [
      "A área 314.1592653589793 do círculo é grande\n"
     ]
    }
   ],
   "source": [
    "def calculo_areac(raio):\n",
    "    area = math.pi * (raio**2)\n",
    "    return area\n",
    "\n",
    "def print_circulo():\n",
    "    if arc > 50:\n",
    "        print(f'A área {arc} do círculo é grande')\n",
    "    elif arc == 50:\n",
    "        print(f\"A área {arc} do círculo é média\")\n",
    "    else:\n",
    "        print(f\"A área {arc} do círculo é pequena\")\n",
    "\n",
    "raio = float(input('Digite o raio:'))\n",
    "\n",
    "arc = calculo_areac(raio)\n",
    "print_circulo()"
   ]
  },
  {
   "cell_type": "code",
   "execution_count": 76,
   "metadata": {},
   "outputs": [
    {
     "name": "stdout",
     "output_type": "stream",
     "text": [
      "A soma dos valores é: 20.0\n",
      "A subtração dos valores é: 0.0\n",
      "A multiplicação dos valores é: 100.0\n",
      "A divisão dos valores é: 1.0\n"
     ]
    }
   ],
   "source": [
    "def operacoes(a,b):\n",
    "    soma = a + b\n",
    "    sub = a - b\n",
    "    mult = a * b\n",
    "    div = a / b\n",
    "\n",
    "    return soma, sub, mult, div\n",
    "\n",
    "def print_operacoes():\n",
    "    print(f\"A soma dos valores é: {soma}\")\n",
    "    print(f\"A subtração dos valores é: {sub}\")\n",
    "    print(f\"A multiplicação dos valores é: {mult}\")\n",
    "    print(f\"A divisão dos valores é: {div}\")\n",
    "\n",
    "a = float(input('Digite a:'))\n",
    "b = float(input('Digite b:'))\n",
    "\n",
    "soma, sub, mult, div = operacoes(a,b)\n",
    "print_operacoes()\n",
    "\n",
    "\n"
   ]
  },
  {
   "cell_type": "code",
   "execution_count": 77,
   "metadata": {},
   "outputs": [
    {
     "name": "stdout",
     "output_type": "stream",
     "text": [
      "loop encerrado.\n",
      "A média dos valores digitados é: 13.333333333333334\n"
     ]
    }
   ],
   "source": [
    "def calculo_media(lista_valores):\n",
    "    if len(lista_valores) == 0:\n",
    "        return 0\n",
    "    return sum(lista_valores) / len(lista_valores)\n",
    "\n",
    "def print_valores_media():\n",
    "    lista_valores = []\n",
    "    while True:\n",
    "        valor = input(\"Digite um valor (ou 'fim'para encerrar):\")\n",
    "        if valor.lower() == 'fim':\n",
    "            print('loop encerrado.')\n",
    "            break \n",
    "        try:\n",
    "            lista_valores.append(float(valor))\n",
    "        except ValueError:\n",
    "            print('Entrada inválida. Por favor, digite um número.')\n",
    "    return lista_valores\n",
    "\n",
    "lista_valores = print_valores_media()\n",
    "media = calculo_media(lista_valores)\n",
    "print(f'A média dos valores digitados é: {media}')\n"
   ]
  },
  {
   "cell_type": "markdown",
   "metadata": {},
   "source": [
    "LAMBDA"
   ]
  },
  {
   "cell_type": "code",
   "execution_count": 79,
   "metadata": {},
   "outputs": [
    {
     "name": "stdout",
     "output_type": "stream",
     "text": [
      "HOJE É SEXTA-FEIRA\n",
      "sábado tem jogo\n"
     ]
    }
   ],
   "source": [
    "maiusculas = lambda s: s.upper()\n",
    "minusculas = lambda s: s.lower()\n",
    "\n",
    "print(maiusculas('hoje é sexta-feira'))\n",
    "print(minusculas('SÁBADO TEM JOGO'))"
   ]
  },
  {
   "cell_type": "code",
   "execution_count": 84,
   "metadata": {},
   "outputs": [
    {
     "data": {
      "text/plain": [
       "15"
      ]
     },
     "execution_count": 84,
     "metadata": {},
     "output_type": "execute_result"
    }
   ],
   "source": [
    "#SOMAR 2 NUMEROS\n",
    "soma = lambda x, y: x + y\n",
    "#resultado = soma(5,3)\n",
    "#resultado\n",
    "soma(10,5)\n"
   ]
  },
  {
   "cell_type": "code",
   "execution_count": 83,
   "metadata": {},
   "outputs": [
    {
     "data": {
      "text/plain": [
       "5"
      ]
     },
     "execution_count": 83,
     "metadata": {},
     "output_type": "execute_result"
    }
   ],
   "source": [
    "# SUBTRAIR 2 NUMEROS\n",
    "sub = lambda x, y: x - y\n",
    "sub(10,5)"
   ]
  },
  {
   "cell_type": "code",
   "execution_count": 85,
   "metadata": {},
   "outputs": [
    {
     "name": "stdout",
     "output_type": "stream",
     "text": [
      "B\n"
     ]
    }
   ],
   "source": [
    "avaliacao = lambda nota: 'A' if nota > 7 else 'B'\n",
    "print(avaliacao(5))"
   ]
  },
  {
   "cell_type": "code",
   "execution_count": 87,
   "metadata": {},
   "outputs": [
    {
     "name": "stdout",
     "output_type": "stream",
     "text": [
      "B\n",
      "A\n"
     ]
    }
   ],
   "source": [
    "avalicao = lambda nota: 'A' if nota > 7 else('B' if nota >= 5 else 'C')\n",
    "print(avaliacao(5))\n",
    "print(avaliacao(8))"
   ]
  },
  {
   "cell_type": "code",
   "execution_count": 90,
   "metadata": {},
   "outputs": [
    {
     "name": "stdout",
     "output_type": "stream",
     "text": [
      "Adulto\n"
     ]
    }
   ],
   "source": [
    "classificacao = lambda idade: 'Criança' if idade < 12 else('Adolescente' if idade < 18 else('Adulto' if idade < 60 else 'Idoso'))\n",
    "numero = float(input('Qual sua idade?'))\n",
    "print(classificacao(numero))"
   ]
  },
  {
   "cell_type": "code",
   "execution_count": 93,
   "metadata": {},
   "outputs": [
    {
     "name": "stdout",
     "output_type": "stream",
     "text": [
      "[1, 4, 9, 16, 25]\n"
     ]
    }
   ],
   "source": [
    "lista_num = [1,2,3,4,5]\n",
    "quadrado = list((map(lambda x: x**2, lista_num)))\n",
    "print(quadrado)"
   ]
  },
  {
   "cell_type": "code",
   "execution_count": 94,
   "metadata": {},
   "outputs": [
    {
     "name": "stdout",
     "output_type": "stream",
     "text": [
      "['PYTHON', 'É', 'MUITO', 'USADO', 'PARA', 'DATA SCIENCE']\n"
     ]
    }
   ],
   "source": [
    "palavras = ['python', 'é', 'muito', 'usado', 'para', 'data science']\n",
    "maiuscula = list(map(lambda palavra:palavra.upper(), palavras))\n",
    "print(maiuscula)"
   ]
  },
  {
   "cell_type": "code",
   "execution_count": 97,
   "metadata": {},
   "outputs": [
    {
     "name": "stdout",
     "output_type": "stream",
     "text": [
      "[2, 4]\n"
     ]
    }
   ],
   "source": [
    "numeros = [1,2,3,4,5]\n",
    "pares = list(filter(lambda x: x % 2 == 0, numeros))\n",
    "print(pares)"
   ]
  },
  {
   "cell_type": "code",
   "execution_count": null,
   "metadata": {},
   "outputs": [],
   "source": [
    "palavras = ['casa', 'moto', 'caro', 'caminhão']\n",
    "comprimento_palavras = list(map(lambda w: len(w), palavras))\n",
    "print(comprimento_palavras)"
   ]
  },
  {
   "cell_type": "code",
   "execution_count": 100,
   "metadata": {},
   "outputs": [
    {
     "name": "stdout",
     "output_type": "stream",
     "text": [
      "600\n",
      "5\n"
     ]
    }
   ],
   "source": [
    "numeros = [2,50,100,450,20,600]\n",
    "maximo = max(numeros)\n",
    "print(maximo)\n",
    "posicao_maximo = numeros.index(maximo)\n",
    "print(posicao_maximo)\n",
    "\n"
   ]
  },
  {
   "cell_type": "code",
   "execution_count": null,
   "metadata": {},
   "outputs": [],
   "source": [
    "numeros = [2,50,100,450,20,600]\n",
    "numeros_dois = [1,2,3,4,5,6]\n",
    "\n",
    "for n in numeros:\n",
    "    for j in numeros_dois:\n",
    "        multi = n * j\n",
    "        print(f\" {n} x {j} = {multi}\")\n"
   ]
  },
  {
   "cell_type": "code",
   "execution_count": 107,
   "metadata": {},
   "outputs": [
    {
     "name": "stdout",
     "output_type": "stream",
     "text": [
      "['1.SP', '2.RJ', '3.BH']\n"
     ]
    }
   ],
   "source": [
    "maior_cidade = ['SP', 'RJ', 'BH']\n",
    "posicao = [1,2,3]\n",
    "lista_ordem = []\n",
    "\n",
    "for i in range(0, len(maior_cidade)):\n",
    "    ordem = str(posicao[i]) + \".\" + maior_cidade[i] \n",
    "    lista_ordem.append(ordem)\n",
    "\n",
    "print(lista_ordem)\n"
   ]
  },
  {
   "cell_type": "code",
   "execution_count": 109,
   "metadata": {},
   "outputs": [
    {
     "name": "stdout",
     "output_type": "stream",
     "text": [
      "[('Ana', 25), ('Carlos', 30), ('João', 22), ('Maria', 17)]\n",
      "Ana tem 25.\n",
      "Carlos tem 30.\n",
      "João tem 22.\n",
      "Maria tem 17.\n"
     ]
    }
   ],
   "source": [
    "#Usando a funcao zip() para associar 2 listas\n",
    "\n",
    "nomes = ['Ana', 'Carlos', 'João', 'Maria']\n",
    "idades = [25, 30, 22, 17]\n",
    "\n",
    "associados = list(zip(nomes, idades))\n",
    "print(associados)\n",
    "\n",
    "for a in zip(nomes,idades):\n",
    "    nome, idade = a\n",
    "    print(f\"{nome} tem {idade}.\")"
   ]
  },
  {
   "cell_type": "code",
   "execution_count": 113,
   "metadata": {},
   "outputs": [
    {
     "name": "stdout",
     "output_type": "stream",
     "text": [
      "[('Ana', 25), ('Carlos', 30), ('João', 22), ('Maria', 17)]\n",
      "Ana tem 25.\n",
      "Carlos tem 30.\n",
      "João tem 22.\n",
      "Maria tem 17.\n"
     ]
    }
   ],
   "source": [
    "nomes = ['Ana', 'Carlos', 'João', 'Maria']\n",
    "idades = [25, 30, 22, 17]\n",
    "associados = []\n",
    "\n",
    "for n in range(0,len(nomes)):\n",
    "    associados.append((nomes[n], idades[n])) #Adiciona uma tupla com os itens de cada lista\n",
    "print(associados)\n",
    "\n",
    "for i in associados:\n",
    "    nome, idade = i\n",
    "    print(f\"{nome} tem {idade}.\")"
   ]
  },
  {
   "cell_type": "code",
   "execution_count": 114,
   "metadata": {},
   "outputs": [
    {
     "name": "stdout",
     "output_type": "stream",
     "text": [
      "[('Ana', 25), ('Carlos', 30), ('João', 22), ('Maria', 17)]\n"
     ]
    }
   ],
   "source": [
    "nomes = ['Ana', 'Carlos', 'João', 'Maria']\n",
    "idades = [25, 30, 22, 17]\n",
    "associados = []\n",
    "\n",
    "for i, nome in enumerate(nomes):\n",
    "    associados.append((nome,idades[i]))\n",
    "print(associados)"
   ]
  },
  {
   "cell_type": "code",
   "execution_count": 115,
   "metadata": {},
   "outputs": [
    {
     "name": "stdout",
     "output_type": "stream",
     "text": [
      "O íncide é 0 e o nome é Flamengo\n",
      "O íncide é 1 e o nome é Fluminense\n",
      "O íncide é 2 e o nome é Botafogo\n",
      "O íncide é 3 e o nome é Vasco\n"
     ]
    }
   ],
   "source": [
    "times_cariocas = ['Flamengo', 'Fluminense', 'Botafogo', 'Vasco']\n",
    "\n",
    "for indice, time in enumerate(times_cariocas):\n",
    "    print(f\"O íncide é {indice} e o nome é {time}\")"
   ]
  },
  {
   "cell_type": "code",
   "execution_count": 118,
   "metadata": {},
   "outputs": [
    {
     "name": "stdout",
     "output_type": "stream",
     "text": [
      "A cidade com mais chuvas é SC\n"
     ]
    }
   ],
   "source": [
    "cidades = ['SP', 'MG', 'RJ', 'SC', 'PR', 'DF']\n",
    "chuvas = [10,200,300,400,150,0]\n",
    "\n",
    "max_chuvas = max(chuvas)\n",
    "max_indice = chuvas.index(max_chuvas)\n",
    "max_chuvas\n",
    "max_indice\n",
    "\n",
    "\n",
    "print(f\"A cidade com mais chuvas é {cidades[max_indice]}\")"
   ]
  },
  {
   "cell_type": "code",
   "execution_count": null,
   "metadata": {},
   "outputs": [],
   "source": []
  }
 ],
 "metadata": {
  "kernelspec": {
   "display_name": "Python 3",
   "language": "python",
   "name": "python3"
  },
  "language_info": {
   "codemirror_mode": {
    "name": "ipython",
    "version": 3
   },
   "file_extension": ".py",
   "mimetype": "text/x-python",
   "name": "python",
   "nbconvert_exporter": "python",
   "pygments_lexer": "ipython3",
   "version": "3.12.3"
  }
 },
 "nbformat": 4,
 "nbformat_minor": 2
}

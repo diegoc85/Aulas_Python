{
 "cells": [
  {
   "cell_type": "markdown",
   "metadata": {},
   "source": [
    "Aula 01 - 2 semestre - Revisão (09/08/2024)\n",
    "\n",
    "1. Crie um programa que solicite três notas para três alunos. Após isso, calcule a média de cada aluno e retorne a média global. Utilize a estrutura de entrada para o usuário. "
   ]
  },
  {
   "cell_type": "code",
   "execution_count": null,
   "metadata": {},
   "outputs": [],
   "source": [
    "aluno1 = []\n",
    "aluno2 = []\n",
    "aluno3 = []\n",
    "media_total = []\n",
    "soma_total = 0\n",
    "soma1 = 0\n",
    "soma2 = 0\n",
    "soma3 = 0\n",
    "media_final = 0\n",
    "\n",
    "for i in range(1,4):\n",
    "    notas1 = float(input(f'Digite a nota {i} do aluno 1:'))\n",
    "    aluno1.append(notas1)\n",
    "\n",
    "for i in range(1,4):\n",
    "    notas2 = float(input(f'Digite a nota {i} do aluno 2:'))\n",
    "    aluno2.append(notas2)\n",
    "for i in range(1,4):\n",
    "    notas3 = float(input(f'Digite a nota {i} do aluno 3:'))\n",
    "    aluno3.append(notas3)\n",
    "\n",
    "for l in aluno1:\n",
    "    soma1 = soma1 + l\n",
    "media1 = soma1/3\n",
    "media_total.append(media1)\n",
    "print(f'A média da notas do aluno 1 é {media1}')\n",
    "\n",
    "for l in aluno2:\n",
    "    soma2 = soma2 + l\n",
    "media2 = soma2/3\n",
    "media_total.append(media2)\n",
    "print(f\"A média das notas do aluno 2 é {media2}\")\n",
    "\n",
    "for l in aluno3:\n",
    "    soma3 = soma3 + l\n",
    "media3 = soma3/3\n",
    "media_total.append(media3)\n",
    "print(f\"A média das notas do aluno 3 é {media3}\")\n",
    "print()\n",
    "\n",
    "for m in media_total:\n",
    "    soma_total = soma_total + m\n",
    "\n",
    "media_final = (soma_total)/3\n",
    "print(f\"A média total das 3 médias é {media_final}\")\n",
    "\n",
    "\n",
    "\n",
    "\n"
   ]
  },
  {
   "cell_type": "code",
   "execution_count": null,
   "metadata": {},
   "outputs": [],
   "source": [
    "coberturas = ['pepperoni', 'tomate', 'queijo', 'cebola']\n",
    "\n",
    "for cobertura_requisita in coberturas:\n",
    "    if cobertura_requisita == 'tomate':\n",
    "        print('Desculpe, mas estamos sem tomate')\n",
    "    else:\n",
    "        print('Adicione cobertura')\n",
    "\n"
   ]
  },
  {
   "cell_type": "code",
   "execution_count": null,
   "metadata": {},
   "outputs": [],
   "source": [
    "ordem = ['first', 'second', 'third', 'fourth']\n",
    "titulo = ['king', 'queen', 'princess', 'duke']\n",
    "\n",
    "for i in ordem:\n",
    "    for k in titulo:\n",
    "        print(i,k)"
   ]
  },
  {
   "cell_type": "code",
   "execution_count": null,
   "metadata": {},
   "outputs": [],
   "source": [
    "#juntando 2 listas em uma. Primeiro elemento é a nota e o segundo a frequencia. \n",
    "# lista_n = [8,7,,7.5,9]\n",
    "#lista_f = [80,85,90,70]\n",
    "\n",
    "lista_nf = [(8,80), (7,85), (7.5, 90), (9,70)]\n",
    "lista_nf[3][0]"
   ]
  },
  {
   "cell_type": "markdown",
   "metadata": {},
   "source": [
    "2. Crie um programa para calcular o desconto no salário em função da tabela de imposto de renda abaixo. Retorne o desconto e o salário líquido. Resolva o exercício sem e com o recurso de lista. \n",
    "lista = (desconto,salario liquido)"
   ]
  },
  {
   "cell_type": "code",
   "execution_count": null,
   "metadata": {},
   "outputs": [],
   "source": [
    "salario = float(input('Digite seu salário:'))\n",
    "lista_desconto = [(2.112,0), (2826.66, 0.075), (3751.06, 0.15), (4664.68, 0.225), (float('inf'), 0.275)]\n",
    "\n",
    "for limite, taxa in lista_desconto:\n",
    "    if salario <= limite:\n",
    "        desconto = salario * taxa\n",
    "    break \n",
    "\n",
    "salario_liquido = salario - desconto \n",
    "print(f'O desconto é de {desconto} e o salário líquido é R$ {salario_liquido}')\n",
    "\n",
    "\n",
    "\n",
    "\n",
    "\n",
    "\n"
   ]
  },
  {
   "cell_type": "code",
   "execution_count": null,
   "metadata": {},
   "outputs": [],
   "source": [
    "salario = float(input('Digite seu salário:'))\n",
    "\n",
    "\n",
    "if salario <= 2.112:\n",
    "    desconto = 0\n",
    "    salario_liquido = salario - desconto\n",
    "    print(f'O salário líquido é R$ {salario_liquido} e o desconto é {desconto}')\n",
    " \n",
    "    \n",
    "elif salario > 2.112 and salario <= 2826.66:\n",
    "    desconto = salario * 0.075\n",
    "    salario_liquido = salario - desconto\n",
    "    print(f'O salário líquido é R$ {salario_liquido} e o desconto é {desconto}')\n",
    "\n",
    "elif salario > 2826.66 and salario <= 3751.06:\n",
    "    desconto = salario * 0.15\n",
    "    salario_liquido = salario - desconto\n",
    "    print(f'O salário líquido é R$ {salario_liquido} e o desconto é {desconto}')\n",
    "\n",
    "elif salario > 3751.06 and salario <= 4664.68:\n",
    "    desconto = salario * 0.225\n",
    "    salario_liquido = salario - desconto\n",
    "    print(f'O salário líquido é R$ {salario_liquido} e o desconto é {desconto}')\n",
    "\n",
    "else:\n",
    "    desconto = salario * 0.275\n",
    "    salario_liquido = salario - desconto\n",
    "    print(f'O salário líquido é R$ {salario_liquido} e o desconto é {desconto}')\n"
   ]
  },
  {
   "cell_type": "markdown",
   "metadata": {},
   "source": [
    "3. Crie uma função para o exercício 2. Retornar o desconto e o salário líquido. \n",
    "\n",
    "def nome ():\n",
    "    \n",
    "return salario_liquido, desconto"
   ]
  },
  {
   "cell_type": "markdown",
   "metadata": {},
   "source": [
    "Aula 2 - Tuplas "
   ]
  },
  {
   "cell_type": "code",
   "execution_count": null,
   "metadata": {},
   "outputs": [],
   "source": [
    "tupla_tupla = (4,5,6),(7,8)\n",
    "for m in tupla_tupla:\n",
    "    print(m)"
   ]
  },
  {
   "cell_type": "code",
   "execution_count": null,
   "metadata": {},
   "outputs": [],
   "source": [
    "for m in tupla_tupla:\n",
    "    for k in m:\n",
    "        print(k)"
   ]
  },
  {
   "cell_type": "code",
   "execution_count": null,
   "metadata": {},
   "outputs": [],
   "source": [
    "tupla = tuple('String')\n",
    "print(tupla)"
   ]
  },
  {
   "cell_type": "code",
   "execution_count": null,
   "metadata": {},
   "outputs": [],
   "source": [
    "tupla = tuple(['foo', [1,2,3], True])\n",
    "tupla"
   ]
  },
  {
   "cell_type": "code",
   "execution_count": null,
   "metadata": {},
   "outputs": [],
   "source": [
    "tupla[1].append(4)\n",
    "tupla"
   ]
  },
  {
   "cell_type": "code",
   "execution_count": null,
   "metadata": {},
   "outputs": [],
   "source": [
    "tupla = tuple(['foo', [1,2,3], True])\n",
    "print(tupla)\n",
    "\n",
    "lista = list(tupla)\n",
    "print(lista)\n",
    "\n",
    "lista.insert(0,'FIAP')\n",
    "lista\n",
    "\n",
    "posicao_insercao = lista.index('foo') + 1\n",
    "lista.insert(posicao_insercao, 'foo fighters')\n",
    "\n",
    "tupla_nova = tuple(lista)\n",
    "print(tupla_nova)"
   ]
  },
  {
   "cell_type": "code",
   "execution_count": null,
   "metadata": {},
   "outputs": [],
   "source": [
    "(4, None, 'foo') + (6,0) + ('fiap', 1)"
   ]
  },
  {
   "cell_type": "code",
   "execution_count": null,
   "metadata": {},
   "outputs": [],
   "source": [
    "(4, None, 'foo') + (6,0) + ('fiap', 1) * 4"
   ]
  },
  {
   "cell_type": "code",
   "execution_count": null,
   "metadata": {},
   "outputs": [],
   "source": [
    "tupla = (100,1000,10000)\n",
    "\n",
    "a,b,c = tupla \n",
    "\n",
    "print(a)\n",
    "print(b)\n",
    "print(c)\n"
   ]
  },
  {
   "cell_type": "code",
   "execution_count": null,
   "metadata": {},
   "outputs": [],
   "source": [
    "def nome_funcao(parametros):\n",
    "    a = (20 + 50) / 2\n",
    "    b = (20 + 50)\n",
    "    return a, b\n",
    "nome_funcao"
   ]
  },
  {
   "cell_type": "code",
   "execution_count": 2,
   "metadata": {},
   "outputs": [
    {
     "data": {
      "text/plain": [
       "('maçã', 'banana', 'laranja', 'uva')"
      ]
     },
     "execution_count": 2,
     "metadata": {},
     "output_type": "execute_result"
    }
   ],
   "source": [
    "#1.\n",
    "frutas = ('maçã', 'banana', 'laranja', 'uva')\n",
    "frutas"
   ]
  },
  {
   "cell_type": "code",
   "execution_count": 3,
   "metadata": {},
   "outputs": [
    {
     "name": "stdout",
     "output_type": "stream",
     "text": [
      "banana\n"
     ]
    }
   ],
   "source": [
    "#2.\n",
    "frutas[1]\n",
    "print(frutas[1])\n"
   ]
  },
  {
   "cell_type": "code",
   "execution_count": 4,
   "metadata": {},
   "outputs": [
    {
     "name": "stdout",
     "output_type": "stream",
     "text": [
      "['maçã', 'banana', 'laranja', 'uva']\n"
     ]
    },
    {
     "data": {
      "text/plain": [
       "('maçã', 'banana', 'manga', 'laranja', 'uva')"
      ]
     },
     "execution_count": 4,
     "metadata": {},
     "output_type": "execute_result"
    }
   ],
   "source": [
    "#3.\n",
    "lista2 = list(frutas)\n",
    "print(lista2)\n",
    "lista2.insert(2, 'manga')\n",
    "lista2\n",
    "frutas_modificadas = tuple(lista2)\n",
    "frutas_modificadas\n",
    "\n"
   ]
  },
  {
   "cell_type": "code",
   "execution_count": null,
   "metadata": {},
   "outputs": [],
   "source": [
    "#4. \n",
    "tupla2 = ('abacaxi', 'limão')\n",
    "frutas_concatenadas = frutas_modificadas + tupla2\n",
    "frutas_concatenadas\n"
   ]
  },
  {
   "cell_type": "code",
   "execution_count": null,
   "metadata": {},
   "outputs": [],
   "source": [
    "#5.\n",
    "for l in frutas_concatenadas:\n",
    "    if l == 'uva':\n",
    "        print(l)\n",
    "        break\n"
   ]
  },
  {
   "cell_type": "markdown",
   "metadata": {},
   "source": [
    "Crie um algoritmo para calcular a média dos alunos abaixo. Utilize a estrutura de repetição e tuplas.\n",
    "(Laura, 85, 90, 88)\n",
    "(Paulo, 60, 75, 68)\n",
    "(Ana, 68, 80, 90)\n",
    "(Jose, 80, 90, 72)\n"
   ]
  },
  {
   "cell_type": "code",
   "execution_count": 28,
   "metadata": {},
   "outputs": [
    {
     "name": "stdout",
     "output_type": "stream",
     "text": [
      "O Aluno Laura tem media 87.67\n",
      "O Aluno Paulo tem media 67.67\n",
      "O Aluno Ana tem media 79.33\n",
      "O Aluno Jose tem media 80.67\n"
     ]
    }
   ],
   "source": [
    "lista_alunos = [('Laura', 85, 90, 88), ('Paulo', 60, 75, 68), ('Ana', 68, 80, 90), ('Jose', 80,90,72)]\n",
    "\n",
    "for l in lista_alunos:\n",
    "    nome, nota1, nota2, nota3 = l\n",
    "    media = (nota1 + nota2 + nota3)/ 3\n",
    "    print(f\"O Aluno {nome} tem media {media:.2f}\")\n",
    "    \n"
   ]
  },
  {
   "cell_type": "markdown",
   "metadata": {},
   "source": [
    "Crie um programa para análise de despesas. Utilize a estrutura de repetição e tuplas. \n",
    "\n",
    "viagens, 5000, 15000, 25000, 9800\n",
    "restaurantes, 230, 100, 50, 415\n",
    "transporte, 50, 15, 89, 115\n",
    "viagens, 5000, 15000, 25000, 9800"
   ]
  },
  {
   "cell_type": "code",
   "execution_count": 32,
   "metadata": {},
   "outputs": [
    {
     "name": "stdout",
     "output_type": "stream",
     "text": [
      "Os gastos totais de Viagens é de R$ 54800.\n",
      "Os gastos totais de Restaurantes é de R$ 795.\n",
      "Os gastos totais de Transporte é de R$ 269.\n"
     ]
    }
   ],
   "source": [
    "lista_viagens = [('Viagens', 5000, 15000, 25000, 9800), ('Restaurantes', 230, 100, 50, 415), ('Transporte', 50, 15, 89, 115)]\n",
    "\n",
    "for k in lista_viagens:\n",
    "    categoria, desp1, desp2, desp3, desp4 = k \n",
    "    gastos_totais = desp1 + desp2 + desp3 + desp4\n",
    "    print(f\"Os gastos totais de {categoria} é de R$ {gastos_totais}.\")"
   ]
  },
  {
   "cell_type": "markdown",
   "metadata": {},
   "source": [
    "Crie um programa para catalogação de livros. Utilize a estrutura de repetição e tuplas. \n",
    "\n",
    "livros = [\n",
    "\n",
    "    ('O Senhor dos Aneis', 'J.R.R Tolkien'), ('O Hobbit', 'J.R.R Tolkien'), ('1984', 'George Orwell')\n",
    "]\n"
   ]
  },
  {
   "cell_type": "code",
   "execution_count": 34,
   "metadata": {},
   "outputs": [
    {
     "name": "stdout",
     "output_type": "stream",
     "text": [
      "O Livro O Senhor dos Aneis é do autor J.R.R Tolkien.\n",
      "O Livro O Hobbit é do autor J.R.R Tolkien.\n",
      "O Livro 1984 é do autor George Orwell.\n"
     ]
    }
   ],
   "source": [
    "livros = [('O Senhor dos Aneis', 'J.R.R Tolkien'), ('O Hobbit', 'J.R.R Tolkien'), ('1984', 'George Orwell')]\n",
    "\n",
    "for l in livros:\n",
    "    livro, autor = l\n",
    "    print(f\"O Livro {livro} é do autor {autor}.\")\n"
   ]
  },
  {
   "cell_type": "markdown",
   "metadata": {},
   "source": [
    "DICIONÁRIOS E DATAFRANE "
   ]
  },
  {
   "cell_type": "code",
   "execution_count": 36,
   "metadata": {},
   "outputs": [
    {
     "name": "stdout",
     "output_type": "stream",
     "text": [
      "[{'nome': 'Alice', 'Idade': 40}, {'nome': 'Bob', 'Idade': 37}, {'nome': 'Chris', 'Idade': 33}]\n"
     ]
    }
   ],
   "source": [
    "estudantes = [\n",
    "    {'nome': 'Alice', 'Idade':40},\n",
    "    {'nome': 'Bob', 'Idade':37},\n",
    "    {'nome': 'Chris', 'Idade':33},\n",
    "\n",
    "]\n",
    "\n",
    "print(estudantes)"
   ]
  },
  {
   "cell_type": "code",
   "execution_count": 38,
   "metadata": {},
   "outputs": [
    {
     "data": {
      "text/html": [
       "<div>\n",
       "<style scoped>\n",
       "    .dataframe tbody tr th:only-of-type {\n",
       "        vertical-align: middle;\n",
       "    }\n",
       "\n",
       "    .dataframe tbody tr th {\n",
       "        vertical-align: top;\n",
       "    }\n",
       "\n",
       "    .dataframe thead th {\n",
       "        text-align: right;\n",
       "    }\n",
       "</style>\n",
       "<table border=\"1\" class=\"dataframe\">\n",
       "  <thead>\n",
       "    <tr style=\"text-align: right;\">\n",
       "      <th></th>\n",
       "      <th>nome</th>\n",
       "      <th>Idade</th>\n",
       "    </tr>\n",
       "  </thead>\n",
       "  <tbody>\n",
       "    <tr>\n",
       "      <th>0</th>\n",
       "      <td>Alice</td>\n",
       "      <td>40</td>\n",
       "    </tr>\n",
       "    <tr>\n",
       "      <th>1</th>\n",
       "      <td>Bob</td>\n",
       "      <td>37</td>\n",
       "    </tr>\n",
       "    <tr>\n",
       "      <th>2</th>\n",
       "      <td>Chris</td>\n",
       "      <td>33</td>\n",
       "    </tr>\n",
       "  </tbody>\n",
       "</table>\n",
       "</div>"
      ],
      "text/plain": [
       "    nome  Idade\n",
       "0  Alice     40\n",
       "1    Bob     37\n",
       "2  Chris     33"
      ]
     },
     "execution_count": 38,
     "metadata": {},
     "output_type": "execute_result"
    }
   ],
   "source": [
    "import pandas as pd\n",
    "\n",
    "dados = pd.DataFrame(estudantes)\n",
    "dados\n"
   ]
  },
  {
   "cell_type": "code",
   "execution_count": 6,
   "metadata": {},
   "outputs": [
    {
     "name": "stdout",
     "output_type": "stream",
     "text": [
      "0     1\n",
      "1     2\n",
      "2     3\n",
      "3     4\n",
      "4     5\n",
      "5     6\n",
      "6     7\n",
      "7     8\n",
      "8     9\n",
      "9    10\n",
      "dtype: int64\n"
     ]
    }
   ],
   "source": [
    "#Exercicio de criação: crie uma Pandas Series contendo os numeros de 1 a 10\n",
    "\n",
    "import pandas as pd\n",
    "numeros = pd.Series(range(1,11))\n",
    "print(numeros)\n"
   ]
  },
  {
   "cell_type": "code",
   "execution_count": 5,
   "metadata": {},
   "outputs": [
    {
     "name": "stdout",
     "output_type": "stream",
     "text": [
      "3\n"
     ]
    }
   ],
   "source": [
    "#Acesse o Terceiro elemento de uma Pandas Series e imprima seu valor. \n",
    "\n",
    "print(numeros[2])"
   ]
  },
  {
   "cell_type": "code",
   "execution_count": null,
   "metadata": {},
   "outputs": [],
   "source": [
    "#Some duas Pandas Series contendo os números de 1 a 5 e os números de 6 a 10\n",
    "#respectivamente\n",
    "\n",
    "s1 = pd.Series(range(1,6))\n",
    "s2 = pd.Series(range(6,11))\n",
    "print(s1)\n",
    "print(s2)\n",
    "\n",
    "soma = s1 + s2\n",
    "print(soma)"
   ]
  },
  {
   "cell_type": "markdown",
   "metadata": {},
   "source": [
    "Crie uma Pandas Series contendo os números de 1 a 10 e exiba apenas os valores maiores que 5. "
   ]
  },
  {
   "cell_type": "code",
   "execution_count": 17,
   "metadata": {},
   "outputs": [
    {
     "name": "stdout",
     "output_type": "stream",
     "text": [
      "5\n",
      "6\n",
      "7\n",
      "8\n",
      "9\n",
      "10\n"
     ]
    }
   ],
   "source": [
    "s3 = pd.Series(range(1,11))\n",
    "#print(s3)\n",
    "\n",
    "for s in s3:\n",
    "    if s >= 5:\n",
    "        print(s)"
   ]
  },
  {
   "cell_type": "code",
   "execution_count": 19,
   "metadata": {},
   "outputs": [
    {
     "data": {
      "text/plain": [
       "5     6\n",
       "6     7\n",
       "7     8\n",
       "8     9\n",
       "9    10\n",
       "dtype: int64"
      ]
     },
     "execution_count": 19,
     "metadata": {},
     "output_type": "execute_result"
    }
   ],
   "source": [
    "s3[s3>5]"
   ]
  },
  {
   "cell_type": "markdown",
   "metadata": {},
   "source": [
    "Calcule a media e o desvio padrão de uma Pandas Series contendo os números de 1 a 10. "
   ]
  },
  {
   "cell_type": "code",
   "execution_count": 25,
   "metadata": {},
   "outputs": [
    {
     "name": "stdout",
     "output_type": "stream",
     "text": [
      "A média é: 5.5\n",
      "O desvio padrão é: 3.0276503540974917\n"
     ]
    }
   ],
   "source": [
    "s4 = pd.Series(range(1,11))\n",
    "media = s4.mean()\n",
    "print(f'A média é: {media}')\n",
    "\n",
    "desvio_padrao = s4.std()\n",
    "print(f'O desvio padrão é: {desvio_padrao}')\n"
   ]
  },
  {
   "cell_type": "markdown",
   "metadata": {},
   "source": [
    "Concatene duas Pandas Series contendo números de 1 a 5 e 6 a 10, respectivamente, em uma única series. "
   ]
  },
  {
   "cell_type": "code",
   "execution_count": 38,
   "metadata": {},
   "outputs": [
    {
     "name": "stdout",
     "output_type": "stream",
     "text": [
      "   0   1\n",
      "0  1   6\n",
      "1  2   7\n",
      "2  3   8\n",
      "3  4   9\n",
      "4  5  10\n"
     ]
    }
   ],
   "source": [
    "s5 = pd.Series(range(1,6))\n",
    "s6 = pd.Series(range(6,11))\n",
    "\n",
    "serie_concatenada = pd.concat([s5,s6], axis=1)\n",
    "print(serie_concatenada)\n",
    "\n"
   ]
  },
  {
   "cell_type": "markdown",
   "metadata": {},
   "source": [
    "Subtraia uma Pandas Series contendo os números de 1 a 10 por uma outra Series contendo os números de 10 a 1. "
   ]
  },
  {
   "cell_type": "code",
   "execution_count": 41,
   "metadata": {},
   "outputs": [
    {
     "name": "stdout",
     "output_type": "stream",
     "text": [
      "0   -9\n",
      "1   -7\n",
      "2   -5\n",
      "3   -3\n",
      "4   -1\n",
      "5    1\n",
      "6    3\n",
      "7    5\n",
      "8    7\n",
      "9    9\n",
      "dtype: int64\n"
     ]
    }
   ],
   "source": [
    "s10 = pd.Series(range(1,11))\n",
    "s11 = pd.Series(range(10,0,-1))\n",
    "\n",
    "sub = s10- s11\n",
    "print(sub)"
   ]
  },
  {
   "cell_type": "markdown",
   "metadata": {},
   "source": [
    "Ordene uma Pandas Series contendo os números de 1 a 10 em ordem crescente"
   ]
  },
  {
   "cell_type": "code",
   "execution_count": null,
   "metadata": {},
   "outputs": [],
   "source": [
    "s12 = pd.Series(range(1,11))\n",
    "s12.sort_values(ascending= False)"
   ]
  },
  {
   "cell_type": "code",
   "execution_count": 45,
   "metadata": {},
   "outputs": [
    {
     "data": {
      "text/plain": [
       "0    False\n",
       "1    False\n",
       "2     True\n",
       "3    False\n",
       "4    False\n",
       "5    False\n",
       "6     True\n",
       "Name: Serie 1, dtype: bool"
      ]
     },
     "execution_count": 45,
     "metadata": {},
     "output_type": "execute_result"
    }
   ],
   "source": [
    "s1 = pd.Series([10,20,20,30,40,50,50], name = 'Serie 1')\n",
    "s1.duplicated()"
   ]
  },
  {
   "cell_type": "code",
   "execution_count": 46,
   "metadata": {},
   "outputs": [
    {
     "data": {
      "text/plain": [
       "3    4\n",
       "4    5\n",
       "5    6\n",
       "6    7\n",
       "7    8\n",
       "dtype: int64"
      ]
     },
     "execution_count": 46,
     "metadata": {},
     "output_type": "execute_result"
    }
   ],
   "source": [
    "s1 = pd.Series(range(1,11))\n",
    "s1[3:8]"
   ]
  },
  {
   "cell_type": "markdown",
   "metadata": {},
   "source": [
    "Normalização de dados\n",
    "v1 = (200,100,1000,150)\n",
    "v2 = (10,20,30,40)\n",
    "minimo, maximo\n",
    "s1_min = "
   ]
  },
  {
   "cell_type": "code",
   "execution_count": 14,
   "metadata": {},
   "outputs": [
    {
     "name": "stdout",
     "output_type": "stream",
     "text": [
      "A soma dos likes é: 552598\n",
      "A soma dos dislikes é: 130\n",
      "A media dos likes é: 138149.5\n",
      "A media dos dislikes é: 32.5\n",
      "A mídia com maior taxa de likes é: 0.9998818321471099\n",
      "A mídia com menor taxa de likes é: 0.9426605504587156\n",
      "[0.9821428571428571, 0.9426605504587156, 0.9959382615759546, 0.9998818321471099]\n",
      "[0.017857142857142856, 0.05733944954128441, 0.004061738424045491, 0.00011816785289011298]\n",
      "4\n"
     ]
    }
   ],
   "source": [
    "#Ex1 \n",
    "#Sabendo que a tupla tem a informacao sobre a midia digital, qtd de likes e #dislikes. Responda:\n",
    "\n",
    "dados = (('youtube', 550, 10),\n",
    "('facebook', 822, 50),\n",
    "('linkedin', 1226, 5), \n",
    "('instagram', 550000, 65))\n",
    "\n",
    "dados\n",
    "soma_likes = 0\n",
    "soma_dislikes = 0 \n",
    "media_likes = 0 \n",
    "media_dislikes = 0 \n",
    "maior = 0 \n",
    "menor = 0 \n",
    "lista_taxa_likes = []\n",
    "lista_taxa_dislikes = [] \n",
    "\n",
    "# Qual a soma total de likes?\n",
    "# Qual a soma total de dislikes?\n",
    "# Qual a media de likes?\n",
    "# Qual a média de dislikes? \n",
    "# Qual mídia apresenta maior e menor taxa de likes? \n",
    "# Faça uma alteração na tupla incluindo spotify com 968 likes e 31 dislikes\n",
    "# Retorne uma nova tupla. \n",
    "\n",
    "for i in dados:\n",
    "    nome, likes, dislikes = i \n",
    "    soma_likes += likes \n",
    "    soma_dislikes +=  dislikes\n",
    "    media_likes = soma_likes/4\n",
    "    media_dislikes = soma_dislikes/4\n",
    "    taxa_likes = likes / (likes + dislikes)\n",
    "    lista_taxa_likes.append(taxa_likes)\n",
    "    taxa_dislikes = dislikes / (dislikes + likes)\n",
    "    lista_taxa_dislikes.append(taxa_dislikes)\n",
    "    maximo = min(lista_taxa_likes)\n",
    "    minimo = max(lista_taxa_likes)\n",
    "    \n",
    "\n",
    "print(f'A soma dos likes é: {soma_likes}')\n",
    "print(f'A soma dos dislikes é: {soma_dislikes}')\n",
    "print(f'A media dos likes é: {media_likes}')\n",
    "print(f'A media dos dislikes é: {media_dislikes}')\n",
    "print(f'A mídia com maior taxa de likes é: {minimo}')\n",
    "print(f'A mídia com menor taxa de likes é: {maximo}')\n",
    "print(lista_taxa_likes)\n",
    "print(lista_taxa_dislikes)\n",
    "\n",
    "\n"
   ]
  },
  {
   "cell_type": "code",
   "execution_count": 20,
   "metadata": {},
   "outputs": [
    {
     "data": {
      "text/plain": [
       "(('youtube', 550, 10),\n",
       " ('facebook', 822, 50),\n",
       " ('linkedin', 1226, 5),\n",
       " ('instagram', 550000, 65),\n",
       " ('spotify', 968, 31))"
      ]
     },
     "execution_count": 20,
     "metadata": {},
     "output_type": "execute_result"
    }
   ],
   "source": [
    "dados\n",
    "lista = list(dados)\n",
    "lista.append(('spotify', 968, 31))\n",
    "nova_tupla = tuple(lista)\n",
    "nova_tupla"
   ]
  },
  {
   "cell_type": "code",
   "execution_count": null,
   "metadata": {},
   "outputs": [],
   "source": [
    "soma_likes = 0\n",
    "soma_dislikes = 0 \n",
    "for k in dados:\n",
    "    soma_likes += k[1]\n",
    "    soma_dislikes += k[2]\n",
    "    taxa_likes = likes / (likes + dislikes)\n",
    "    taxa_dislikes = dislikes / (dislikes + likes)\n"
   ]
  },
  {
   "cell_type": "code",
   "execution_count": 23,
   "metadata": {},
   "outputs": [
    {
     "ename": "TypeError",
     "evalue": "'tuple' object does not support item assignment",
     "output_type": "error",
     "traceback": [
      "\u001b[0;31m---------------------------------------------------------------------------\u001b[0m",
      "\u001b[0;31mTypeError\u001b[0m                                 Traceback (most recent call last)",
      "Cell \u001b[0;32mIn[23], line 3\u001b[0m\n\u001b[1;32m      1\u001b[0m tupla \u001b[38;5;241m=\u001b[39m (\u001b[38;5;241m1\u001b[39m, \u001b[38;5;241m2\u001b[39m, \u001b[38;5;241m3\u001b[39m)\n\u001b[0;32m----> 3\u001b[0m \u001b[43mtupla\u001b[49m\u001b[43m[\u001b[49m\u001b[38;5;241;43m0\u001b[39;49m\u001b[43m]\u001b[49m \u001b[38;5;241m=\u001b[39m \u001b[38;5;241m0\u001b[39m\n\u001b[1;32m      5\u001b[0m \u001b[38;5;28mprint\u001b[39m(lista)\n\u001b[1;32m      6\u001b[0m \u001b[38;5;28mprint\u001b[39m(tupla)\n",
      "\u001b[0;31mTypeError\u001b[0m: 'tuple' object does not support item assignment"
     ]
    }
   ],
   "source": [
    "\n",
    "tupla = (1, 2, 3)\n",
    "\n",
    "tupla[0] = 0\n",
    "\n",
    "print(lista)\n",
    "print(tupla)"
   ]
  },
  {
   "cell_type": "code",
   "execution_count": null,
   "metadata": {},
   "outputs": [],
   "source": [
    "dic = {\n",
    "    ('Tipo': )\n",
    "}"
   ]
  },
  {
   "cell_type": "markdown",
   "metadata": {},
   "source": [
    "Análise de desempenho dos times no Brasileirão 2024. Sabendo que foram coletadas informações referente os pontos, vitórias e derrotas de cada time, utilize os dados abaixo no formato tupla e responda as seguintes perguntas:\n",
    "\n",
    "a. Crie uma tupla com os dados apresentados.\n",
    "\n",
    "Fortaleza, 48, 14, 3\n",
    "Botafogo, 47, 14, 5\n",
    "Palmeiras, 44, 14, 5\n",
    "Flamengo, 44, 13, 5\n",
    "São Paulo, 41, 12, 5"
   ]
  },
  {
   "cell_type": "code",
   "execution_count": 31,
   "metadata": {},
   "outputs": [
    {
     "name": "stdout",
     "output_type": "stream",
     "text": [
      "[3.4285714285714284, 3.357142857142857, 3.142857142857143, 3.3846153846153846, 3.4166666666666665]\n",
      "[16.0, 9.4, 8.8, 8.8, 8.2]\n",
      "O time de maior taxa de vitórias é o Fortaleza: 3.4285714285714284\n",
      "O time de menor taxa de derrotas é o São Paulo: 8.2\n"
     ]
    }
   ],
   "source": [
    "brasileirao = (('Fortaleza', 48,14,3), ('Botafogo', 47, 14, 5), ('Palmeiras', 44, 14, 5), ('Flamengo', 44, 13, 5), ('São Paulo', 41, 12, 5))\n",
    "lista_taxa_vitorias = []\n",
    "lista_taxa_derrotas = []\n",
    "\n",
    "for i in brasileirao:\n",
    "    time, pontos, vitorias, derrotas = i\n",
    "    taxa_vitorias = pontos/vitorias\n",
    "    lista_taxa_vitorias.append(taxa_vitorias)\n",
    "    taxa_derrotas = pontos/derrotas \n",
    "    lista_taxa_derrotas.append(taxa_derrotas)\n",
    "    maximo = max(lista_taxa_vitorias)\n",
    "    minimo = min(lista_taxa_derrotas)\n",
    "\n",
    "print(lista_taxa_vitorias)\n",
    "print(lista_taxa_derrotas)\n",
    "print(f'O time de maior taxa de vitórias é o Fortaleza: {maximo}')\n",
    "print(f'O time de menor taxa de derrotas é o São Paulo: {minimo}')\n",
    "\n"
   ]
  },
  {
   "cell_type": "markdown",
   "metadata": {},
   "source": [
    "Fluminense, 24, 6, 6\n",
    "Vitória, 22, 6, 4\n",
    "Corinthians, 22, 4, 10\n",
    "Cuiabá, 18, 4, 6\n",
    "Atlético-GO, 18, 4, 6"
   ]
  },
  {
   "cell_type": "code",
   "execution_count": 34,
   "metadata": {},
   "outputs": [
    {
     "data": {
      "text/plain": [
       "(('Fortaleza', 48, 14, 3),\n",
       " ('Botafogo', 47, 14, 5),\n",
       " ('Palmeiras', 44, 14, 5),\n",
       " ('Flamengo', 44, 13, 5),\n",
       " ('São Paulo', 41, 12, 5),\n",
       " ('Fluminense', 24, 6, 6),\n",
       " ('Vitória', 22, 6, 4),\n",
       " ('Corinthians', 22, 4, 10),\n",
       " ('Cuiabá', 18, 4, 6),\n",
       " ('Atletico-GO', 18, 4, 6))"
      ]
     },
     "execution_count": 34,
     "metadata": {},
     "output_type": "execute_result"
    }
   ],
   "source": [
    "brasileirao = (('Fortaleza', 48,14,3), ('Botafogo', 47, 14, 5), ('Palmeiras', 44, 14, 5), ('Flamengo', 44, 13, 5), ('São Paulo', 41, 12, 5))\n",
    "brasileirao_dois = (('Fluminense', 24,6,6), ('Vitória', 22, 6, 4), ('Corinthians', 22, 4, 10), ('Cuiabá', 18, 4, 6), ('Atletico-GO', 18,4,6))\n",
    "brasileirao_dois\n",
    "\n",
    "tupla_concatenada = brasileirao + brasileirao_dois\n",
    "tupla_concatenada"
   ]
  },
  {
   "cell_type": "markdown",
   "metadata": {},
   "source": [
    "\n",
    "\n",
    "lista.insert(0,'FIAP')\n",
    "lista\n",
    "\n",
    "posicao_insercao = lista.index('foo') + 1\n",
    "lista.insert(posicao_insercao, 'foo fighters')"
   ]
  },
  {
   "cell_type": "code",
   "execution_count": 57,
   "metadata": {},
   "outputs": [
    {
     "name": "stdout",
     "output_type": "stream",
     "text": [
      "(('Fluminense', 28, 7, 7), ('Vitória', 22, 6, 4), ('Corinthians', 22, 4, 10), ('Cuiabá', 18, 4, 6), ('Atletico-GO', 18, 4, 6))\n"
     ]
    }
   ],
   "source": [
    "brasileirao_dois = (('Fluminense', 24,6,6), ('Vitória', 22, 6, 4), ('Corinthians', 22, 4, 10), ('Cuiabá', 18, 4, 6), ('Atletico-GO', 18,4,6))\n",
    "lista = list(brasileirao_dois)\n",
    "\n",
    "lista.remove(('Fluminense', 24,6,6))\n",
    "lista.insert(0,('Fluminense', 28,7,7))\n",
    "lista\n",
    "nova_tupla = tuple(lista)\n",
    "print(nova_tupla)\n",
    "\n",
    "\n"
   ]
  },
  {
   "cell_type": "code",
   "execution_count": 43,
   "metadata": {},
   "outputs": [
    {
     "name": "stdout",
     "output_type": "stream",
     "text": [
      "A soma total de pontos é: 224\n",
      "A soma total de vitorias é: 67\n",
      "A soma total de derrotas é: 23\n"
     ]
    }
   ],
   "source": [
    "brasileirao = (('Fortaleza', 48,14,3), ('Botafogo', 47, 14, 5), ('Palmeiras', 44, 14, 5), ('Flamengo', 44, 13, 5), ('São Paulo', 41, 12, 5))\n",
    "\n",
    "soma_pontos = 0\n",
    "soma_vitorias = 0 \n",
    "soma_derrotas = 0 \n",
    "\n",
    "for k in brasileirao:\n",
    "    time,pontos,vitorias,derrotas = k\n",
    "    soma_pontos = soma_pontos + pontos\n",
    "    soma_vitorias = soma_vitorias + vitorias\n",
    "    soma_derrotas = soma_derrotas + derrotas\n",
    "\n",
    "print(f\"A soma total de pontos é: {soma_pontos}\")\n",
    "print(f\"A soma total de vitorias é: {soma_vitorias}\")\n",
    "print(f\"A soma total de derrotas é: {soma_derrotas}\")"
   ]
  },
  {
   "cell_type": "markdown",
   "metadata": {},
   "source": [
    "Calcule as taxas de pontos/vitórias e pontos/derrotas para cada time e encontre o time com a maior e a menor taxa pontos/vitórias."
   ]
  },
  {
   "cell_type": "code",
   "execution_count": null,
   "metadata": {},
   "outputs": [],
   "source": [
    "brasileirao = (('Fortaleza', 48,14,3), ('Botafogo', 47, 14, 5), ('Palmeiras', 44, 14, 5), ('Flamengo', 44, 13, 5), ('São Paulo', 41, 12, 5))\n",
    "\n"
   ]
  },
  {
   "cell_type": "code",
   "execution_count": 58,
   "metadata": {},
   "outputs": [
    {
     "name": "stdout",
     "output_type": "stream",
     "text": [
      "A lista com a taxa de vitórias dos times é:[3.4285714285714284, 3.357142857142857, 3.142857142857143, 3.3846153846153846, 3.4166666666666665]\n",
      "A lista com a taxa de derrotas dos times é:[16.0, 9.4, 8.8, 8.8, 8.2]\n"
     ]
    }
   ],
   "source": [
    "brasileirao = (('Fortaleza', 48,14,3), ('Botafogo', 47, 14, 5), ('Palmeiras', 44, 14, 5), ('Flamengo', 44, 13, 5), ('São Paulo', 41, 12, 5))\n",
    "\n",
    "lista_taxa_vitorias = []\n",
    "lista_taxa_derrotas = []\n",
    "\n",
    "for i in brasileirao:\n",
    "    time, pontos, vitorias, derrotas = i\n",
    "    taxa_vitorias = pontos/vitorias\n",
    "    lista_taxa_vitorias.append(taxa_vitorias)\n",
    "    taxa_derrotas = pontos/derrotas \n",
    "    lista_taxa_derrotas.append(taxa_derrotas)\n",
    "\n",
    "print(f'A lista com a taxa de vitórias dos times é:{lista_taxa_vitorias}')\n",
    "print(f'A lista com a taxa de derrotas dos times é:{lista_taxa_derrotas}')\n"
   ]
  },
  {
   "cell_type": "code",
   "execution_count": 62,
   "metadata": {},
   "outputs": [
    {
     "data": {
      "text/plain": [
       "3"
      ]
     },
     "execution_count": 62,
     "metadata": {},
     "output_type": "execute_result"
    }
   ],
   "source": [
    "tupla = (1,2,3)\n",
    "len(tupla)"
   ]
  },
  {
   "cell_type": "markdown",
   "metadata": {},
   "source": [
    "CP 1"
   ]
  },
  {
   "cell_type": "code",
   "execution_count": null,
   "metadata": {},
   "outputs": [],
   "source": [
    "#2 Calcule a taxa/relação vitorias/derrotas\n",
    "\n",
    "times = (('Fortaleza', 48,14,3), ('Botafogo', 47, 14, 5), ('Palmeiras', 44, 14, 5), ('Flamengo', 44, 13, 5), ('São Paulo', 41, 12, 5))\n",
    "taxa_vitorias = []\n",
    "\n",
    "for times in times:\n",
    "    time, pontos, vitoria, derrota = times\n",
    "    taxa_vitoria = vitoria / (vitoria + derrota)\n",
    "    taxa_vitorias.append((time, pontos, vitoria, derrota, taxa_vitoria))\n",
    "\n",
    "maior_taxa = max(taxa_vitorias)\n",
    "menor_taxa = min(taxa_vitorias)\n",
    "\n"
   ]
  },
  {
   "cell_type": "markdown",
   "metadata": {},
   "source": [
    "Estruturas com função def "
   ]
  },
  {
   "cell_type": "code",
   "execution_count": 2,
   "metadata": {},
   "outputs": [
    {
     "data": {
      "text/plain": [
       "(180, 20)"
      ]
     },
     "execution_count": 2,
     "metadata": {},
     "output_type": "execute_result"
    }
   ],
   "source": [
    "# Ex. 1 - Operação Soma\n",
    "\n",
    "def soma_sub (a,b,c):\n",
    "    \"Função para realizar soma entre três números\"\n",
    "    somar = a + b + c\n",
    "    sub = a-b-c\n",
    "\n",
    "    return somar, sub\n",
    "soma_sub(100,30,50)"
   ]
  },
  {
   "cell_type": "code",
   "execution_count": 3,
   "metadata": {},
   "outputs": [
    {
     "name": "stdout",
     "output_type": "stream",
     "text": [
      "180\n",
      "20\n"
     ]
    }
   ],
   "source": [
    "# Separar os resultados do return\n",
    "# soma e subtracao recebem somar e sub, respectivamente do return\n",
    "\n",
    "soma, subtracao = soma_sub(100,30,50)\n",
    "print(soma)\n",
    "print(subtracao)"
   ]
  },
  {
   "cell_type": "markdown",
   "metadata": {},
   "source": [
    "2. Crie uma função que retorne as seguintes operações (soma, subtração, divisão e multiplicação). Crie uma estrutura a qual retorne os resultados separados. Utilize 4 números. "
   ]
  },
  {
   "cell_type": "code",
   "execution_count": 9,
   "metadata": {},
   "outputs": [
    {
     "name": "stdout",
     "output_type": "stream",
     "text": [
      "Erro\n"
     ]
    },
    {
     "ename": "UnboundLocalError",
     "evalue": "cannot access local variable 'div' where it is not associated with a value",
     "output_type": "error",
     "traceback": [
      "\u001b[0;31m---------------------------------------------------------------------------\u001b[0m",
      "\u001b[0;31mUnboundLocalError\u001b[0m                         Traceback (most recent call last)",
      "Cell \u001b[0;32mIn[9], line 13\u001b[0m\n\u001b[1;32m     10\u001b[0m     \u001b[38;5;28;01mreturn\u001b[39;00m soma, sub, div, multi\n\u001b[1;32m     12\u001b[0m \u001b[38;5;66;03m#operacoes(110,40,50,60)\u001b[39;00m\n\u001b[0;32m---> 13\u001b[0m somar, subtracao, multiplicacao, divisao \u001b[38;5;241m=\u001b[39m \u001b[43moperacoes\u001b[49m\u001b[43m(\u001b[49m\u001b[38;5;241;43m10\u001b[39;49m\u001b[43m,\u001b[49m\u001b[38;5;241;43m200\u001b[39;49m\u001b[43m,\u001b[49m\u001b[38;5;241;43m300\u001b[39;49m\u001b[43m,\u001b[49m\u001b[38;5;241;43m400\u001b[39;49m\u001b[43m)\u001b[49m\n\u001b[1;32m     14\u001b[0m \u001b[38;5;28mprint\u001b[39m(soma)\n\u001b[1;32m     15\u001b[0m \u001b[38;5;28mprint\u001b[39m(subtracao)\n",
      "Cell \u001b[0;32mIn[9], line 10\u001b[0m, in \u001b[0;36moperacoes\u001b[0;34m(a, b, c, d)\u001b[0m\n\u001b[1;32m      7\u001b[0m \u001b[38;5;28;01melse\u001b[39;00m:\n\u001b[1;32m      8\u001b[0m     div \u001b[38;5;241m=\u001b[39m a\u001b[38;5;241m/\u001b[39mb\u001b[38;5;241m/\u001b[39mc\u001b[38;5;241m/\u001b[39md\n\u001b[0;32m---> 10\u001b[0m \u001b[38;5;28;01mreturn\u001b[39;00m soma, sub, \u001b[43mdiv\u001b[49m, multi\n",
      "\u001b[0;31mUnboundLocalError\u001b[0m: cannot access local variable 'div' where it is not associated with a value"
     ]
    }
   ],
   "source": [
    "def operacoes(a,b,c,d):\n",
    "    soma = a+b+c+d\n",
    "    sub = a-b-c-d\n",
    "    multi = a*b*c*d \n",
    "    if b or c or d == 0:\n",
    "        print('Erro')\n",
    "    else:\n",
    "        div = a/b/c/d\n",
    "\n",
    "    return soma, sub, div, multi\n",
    "\n",
    "#operacoes(110,40,50,60)\n",
    "somar, subtracao, multiplicacao, divisao = operacoes(10,200,300,400)\n",
    "print(soma)\n",
    "print(subtracao)\n",
    "print(multiplicacao)\n",
    "print(divisao)"
   ]
  },
  {
   "cell_type": "markdown",
   "metadata": {},
   "source": [
    "3. Crie uma função que retorne a soma e média de uma lista. \n",
    "lista = [10, 20, 30, 40, 50]"
   ]
  },
  {
   "cell_type": "code",
   "execution_count": 11,
   "metadata": {},
   "outputs": [
    {
     "name": "stdout",
     "output_type": "stream",
     "text": [
      "150\n",
      "30.0\n"
     ]
    }
   ],
   "source": [
    "lista = [10, 20, 30, 40, 50]\n",
    "\n",
    "def soma_media(lista):\n",
    "    soma = 0\n",
    "    media = 0\n",
    "    for i in lista:\n",
    "        soma += i\n",
    "    media = soma/len(lista)\n",
    "    \n",
    "    return soma, media\n",
    "\n",
    "soma, media = soma_media(lista)\n",
    "print(soma)\n",
    "print(media)\n"
   ]
  },
  {
   "cell_type": "markdown",
   "metadata": {},
   "source": [
    "4. Crie uma função para retornar a soma e média de cada lista, além da soma e média entre as três listas. \n",
    "lista1 = [10,20,30,40,50]\n",
    "lista2 = [5,10,15,20,25,30,35,40,45,50]\n",
    "lista3 = [5,10,15,20,25,30,35,40,45,50,55,60,65,70]"
   ]
  },
  {
   "cell_type": "code",
   "execution_count": 12,
   "metadata": {},
   "outputs": [
    {
     "data": {
      "text/plain": [
       "(150, 30.0, 27.5, 525, 37.5, 950, 316.6666666666667)"
      ]
     },
     "execution_count": 12,
     "metadata": {},
     "output_type": "execute_result"
    }
   ],
   "source": [
    "\n",
    "lista1 = [10,20,30,40,50]\n",
    "lista2 = [5,10,15,20,25,30,35,40,45,50]\n",
    "lista3 = [5,10,15,20,25,30,35,40,45,50,55,60,65,70]\n",
    "\n",
    "def operacoes_lista(lista1, lista2, lista3):\n",
    "    somaL1 = sum(lista1)\n",
    "    mediaL1 = somaL1 / len(lista1)\n",
    "\n",
    "    somaL2 = sum(lista2)\n",
    "    mediaL2 = somaL2 / len(lista2)\n",
    "\n",
    "    somaL3 = sum(lista3)\n",
    "    mediaL3 = somaL3 / len(lista3)\n",
    "\n",
    "    soma_listas = somaL1 + somaL2 + somaL3\n",
    "    media_listas = soma_listas/3\n",
    "\n",
    "    return somaL1, mediaL1, mediaL2, somaL3, mediaL3, soma_listas, media_listas\n",
    "\n",
    "operacoes_lista(lista1, lista2, lista3)"
   ]
  },
  {
   "cell_type": "markdown",
   "metadata": {},
   "source": [
    "Função chama função "
   ]
  },
  {
   "cell_type": "code",
   "execution_count": 2,
   "metadata": {},
   "outputs": [
    {
     "name": "stdout",
     "output_type": "stream",
     "text": [
      "6\n",
      "3.0\n"
     ]
    }
   ],
   "source": [
    "def soma(a,b):\n",
    "    'Função som'\n",
    "    soma = a + b\n",
    "    return soma\n",
    "\n",
    "def media(a,b):\n",
    "    'Função Média'\n",
    "    media = soma(a,b)/2\n",
    "    return media \n",
    "\n",
    "print(soma(2,4))\n",
    "print(media(2,4))"
   ]
  },
  {
   "cell_type": "code",
   "execution_count": 3,
   "metadata": {},
   "outputs": [
    {
     "name": "stdout",
     "output_type": "stream",
     "text": [
      "<function soma_quadrado at 0x1038520c0>\n"
     ]
    }
   ],
   "source": [
    "#Criar uma função que retorna a soma dos quadrados\n",
    "\n",
    "def eleva_quadrado(x):\n",
    "    'Função eleva ao quadrado'\n",
    "    y = x**2\n",
    "    return y\n",
    "def soma_quadrado(a,b,c,d,e):\n",
    "    'Função que soma os números'\n",
    "    x = eleva_quadrado(a)\n",
    "    y = eleva_quadrado(b)\n",
    "    z = eleva_quadrado(c)\n",
    "    w = eleva_quadrado(d)\n",
    "\n",
    "    soma  = x+y+z+w\n",
    "    return soma\n",
    "\n",
    "soma_quadrado(5,10,15,20,25)\n",
    "print(soma_quadrado)"
   ]
  },
  {
   "cell_type": "code",
   "execution_count": 6,
   "metadata": {},
   "outputs": [
    {
     "name": "stdout",
     "output_type": "stream",
     "text": [
      "A área do retângulo é  50.0\n"
     ]
    }
   ],
   "source": [
    "# Função para calcular a área de um retângulo\n",
    "\n",
    "def area(comprimento, largura):\n",
    "    'Função que calcula a área de um retângulo'\n",
    "    area_ret = comprimento * largura\n",
    "\n",
    "    return area_ret\n",
    "\n",
    "def mostra_area():\n",
    "    'Função para mostrar o resultado'\n",
    "    print('A área do retângulo é ', ar)\n",
    "    \n",
    "l = float(input('Digite o comprimento'))\n",
    "c = float(input('Digite a largura:'))\n",
    "\n",
    "ar = area(l,c)\n",
    "mostra_area()"
   ]
  },
  {
   "cell_type": "code",
   "execution_count": 11,
   "metadata": {},
   "outputs": [
    {
     "name": "stdout",
     "output_type": "stream",
     "text": [
      "A área do círculo é uma área média de 50.24\n"
     ]
    }
   ],
   "source": [
    "# Função para calcular a área de um círculo e retornar as seguintes informações\n",
    "# a) area > 100 - area_grande\n",
    "# b) a > 50 - área _media\n",
    "# c) area < 50 - area_pequena \n",
    "\n",
    "def area_circulo(raio):\n",
    "    'Função para calcular a área do círculo'\n",
    "    area_circ = 3.14 * (raio ** 2)\n",
    "    return area_circ\n",
    "\n",
    "def mostrar_circulo():\n",
    "    'Função mostrar o resultado'\n",
    "    if ac > 100:\n",
    "        return 'área_grande'\n",
    "    elif ac > 50 and ac < 100:\n",
    "        print('A área do círculo é uma área média de', ac)\n",
    "    else:\n",
    "        print('A área do círculo é uma área pequena de', ac)\n",
    "\n",
    "\n",
    "r = float(input('Digite o raio do círculo:'))\n",
    "\n",
    "ac = area_circulo(r)\n",
    "mostrar_circulo ()\n",
    "\n"
   ]
  },
  {
   "cell_type": "code",
   "execution_count": null,
   "metadata": {},
   "outputs": [],
   "source": [
    "r = float(input('Digite o raio:'))\n",
    "def calcula_area(raio):\n",
    "    'Função para calcular a área do círculo'\n",
    "    area_circ = 3.14 * (raio ** 2)\n",
    "    return area_circ\n",
    "\n",
    "\n",
    "def status_circulo(area): # pra essa func funcionar tem q calcular a area \n",
    "    'Função mostrar o resultado'\n",
    "    if area > 100:\n",
    "        return 'área_grande'\n",
    "    elif area > 50 and area < 100:\n",
    "        return 'área média'\n",
    "    else:\n",
    "        return 'area pequena'\n",
    "    \n",
    "\n",
    "\n",
    "status_circulo(calcula_area(5))"
   ]
  },
  {
   "cell_type": "code",
   "execution_count": null,
   "metadata": {},
   "outputs": [],
   "source": [
    "def multiplica(a,b):\n",
    "    multi = a * b\n",
    "\n",
    "    return multi\n",
    "\n",
    "def multiplicar_lista(lista1, lista2):\n",
    "    produtos = []\n",
    "\n",
    "    for i in range(len(lista1)):\n",
    "        produtos.append(multiplica(lista1[i],lista2[i]))\n",
    "        return produtos\n",
    "\n",
    "listaA = [1,2,3,4]\n",
    "listaB = [5,6,7,8]\n",
    "\n",
    "resultado = multiplicar_lista(listaA, listaB)"
   ]
  },
  {
   "cell_type": "markdown",
   "metadata": {},
   "source": [
    "Exercício 1 - Crie um algoritmo utilizando função dentro de função que faz as quatro operações básicas (soma, subtração, multiplicação e divisão):\n"
   ]
  },
  {
   "cell_type": "code",
   "execution_count": 15,
   "metadata": {},
   "outputs": [
    {
     "name": "stdout",
     "output_type": "stream",
     "text": [
      "A soma dos valores é: 10\n",
      "A subtração dos valores é: 10\n",
      "A multiplicação dos valores é: 0\n",
      "Divisão por zero!\n",
      "A divisão dos valores é: None\n"
     ]
    }
   ],
   "source": [
    "a = int(input('Digite o primeiro numero:'))\n",
    "b = int(input('Digite o segundo número:'))\n",
    "\n",
    "def soma(a, b):\n",
    "    return a + b\n",
    "def sub(a, b):\n",
    "    return a - b\n",
    "def multi(a, b):\n",
    "    return a * b\n",
    "def div(a, b):\n",
    "    if b == 0:\n",
    "        print('Erro! Divisão por zero!')\n",
    "    else:\n",
    "         return a / b\n",
    "\n",
    "def resultados (a,b):\n",
    "    'Mostrar resultados'\n",
    "    print('A soma dos valores é:', soma(a,b))\n",
    "    print('A subtração dos valores é:', sub(a,b))\n",
    "    print('A multiplicação dos valores é:', multi(a,b))\n",
    "    print('A divisão dos valores é:', div(a,b))\n",
    "\n",
    "resultados(a,b)\n",
    "\n",
    "\n",
    "\n",
    "\n",
    "     "
   ]
  },
  {
   "cell_type": "markdown",
   "metadata": {},
   "source": [
    "Exercício 2 - Crie uma calculadora de média solicitando número para o usuário até que ele digite 'fim'. Crie uma função para solicitar a informação para o usuário (números), em seguida, crie outra função para apresentar a média deste valores. "
   ]
  },
  {
   "cell_type": "code",
   "execution_count": null,
   "metadata": {},
   "outputs": [],
   "source": [
    "def numeros():\n",
    "    lista_num = []\n",
    "    while True: \n",
    "        num = input('Digite um número:')\n",
    "        lista_num.append(num)\n",
    "        if num == 'fim':\n",
    "            break\n",
    "        else:\n",
    "            lista_num.append(float(num))\n",
    "   \n",
    "\n",
    "    \n",
    "    \n"
   ]
  },
  {
   "cell_type": "markdown",
   "metadata": {},
   "source": [
    "# Função dentro de função (função chamando função)\n",
    "1. Crie uma estrutura com função a qual solicite 5 números para um usuário. Após isso, crie uma nova função para calcular a soma dos valores inseridos na lista. Em seguida, crie uma função para retornar a média dos valores da lista. "
   ]
  },
  {
   "cell_type": "code",
   "execution_count": 28,
   "metadata": {},
   "outputs": [
    {
     "name": "stdout",
     "output_type": "stream",
     "text": [
      "A sooma dos valores é: 50\n",
      "A média dos valores é 10.0\n"
     ]
    }
   ],
   "source": [
    "lista_nums = []\n",
    "\n",
    "def numeros():\n",
    "    \n",
    "    for n in range(5):\n",
    "        num = int(input(f\"Digite o número {n}\"))\n",
    "        lista_nums.append(num)\n",
    "    return lista_nums\n",
    "\n",
    "def soma_valores(lista_nums):\n",
    "    soma = 0\n",
    "    for l in lista_nums:\n",
    "        soma += l \n",
    "    return soma\n",
    "\n",
    "def media_valores(soma_valores):\n",
    "    media = soma_valores(lista_nums) / len(lista_nums)\n",
    "    return media\n",
    "\n",
    "print(f\"A sooma dos valores é: {soma_valores(numeros())}\")\n",
    "print(f\"A média dos valores é {media_valores(soma_valores)}\")"
   ]
  },
  {
   "cell_type": "code",
   "execution_count": 29,
   "metadata": {},
   "outputs": [
    {
     "name": "stdout",
     "output_type": "stream",
     "text": [
      "[10.0, 10.0, 10.0, 10.0]\n"
     ]
    }
   ],
   "source": [
    "# Estruturas de repetição com while true e try\n",
    "# é o mesmo que if e else , mas so pode ser usado com whle\n",
    "\n",
    "celsius_lista = []\n",
    "\n",
    "while True:\n",
    "    entrada = input(\"Digite a temperatura em Fahrenheit:\")\n",
    "\n",
    "    if entrada.lower() == 'sair':\n",
    "        break\n",
    "    \n",
    "    try:\n",
    "        fahrenheit = float(entrada)\n",
    "        celsius = (fahrenheit - 32) * 5 / 9\n",
    "        celsius_lista.append(fahrenheit)\n",
    "\n",
    "    except ValueError:\n",
    "        print('Valor inválido')\n",
    "\n",
    "print(celsius_lista)"
   ]
  },
  {
   "cell_type": "code",
   "execution_count": 1,
   "metadata": {},
   "outputs": [],
   "source": [
    "import pandas as pd"
   ]
  },
  {
   "cell_type": "code",
   "execution_count": 2,
   "metadata": {},
   "outputs": [
    {
     "data": {
      "text/html": [
       "<div>\n",
       "<style scoped>\n",
       "    .dataframe tbody tr th:only-of-type {\n",
       "        vertical-align: middle;\n",
       "    }\n",
       "\n",
       "    .dataframe tbody tr th {\n",
       "        vertical-align: top;\n",
       "    }\n",
       "\n",
       "    .dataframe thead th {\n",
       "        text-align: right;\n",
       "    }\n",
       "</style>\n",
       "<table border=\"1\" class=\"dataframe\">\n",
       "  <thead>\n",
       "    <tr style=\"text-align: right;\">\n",
       "      <th></th>\n",
       "      <th>Nome</th>\n",
       "      <th>Idade</th>\n",
       "      <th>Salario</th>\n",
       "    </tr>\n",
       "  </thead>\n",
       "  <tbody>\n",
       "    <tr>\n",
       "      <th>0</th>\n",
       "      <td>João</td>\n",
       "      <td>25</td>\n",
       "      <td>5000</td>\n",
       "    </tr>\n",
       "    <tr>\n",
       "      <th>1</th>\n",
       "      <td>Maria</td>\n",
       "      <td>30</td>\n",
       "      <td>6000</td>\n",
       "    </tr>\n",
       "    <tr>\n",
       "      <th>2</th>\n",
       "      <td>Pedro</td>\n",
       "      <td>35</td>\n",
       "      <td>7000</td>\n",
       "    </tr>\n",
       "    <tr>\n",
       "      <th>3</th>\n",
       "      <td>Ana</td>\n",
       "      <td>40</td>\n",
       "      <td>8000</td>\n",
       "    </tr>\n",
       "    <tr>\n",
       "      <th>4</th>\n",
       "      <td>Mark</td>\n",
       "      <td>34</td>\n",
       "      <td>9000</td>\n",
       "    </tr>\n",
       "  </tbody>\n",
       "</table>\n",
       "</div>"
      ],
      "text/plain": [
       "    Nome  Idade  Salario\n",
       "0   João     25     5000\n",
       "1  Maria     30     6000\n",
       "2  Pedro     35     7000\n",
       "3    Ana     40     8000\n",
       "4   Mark     34     9000"
      ]
     },
     "execution_count": 2,
     "metadata": {},
     "output_type": "execute_result"
    }
   ],
   "source": [
    "dados = {\n",
    "    'Nome':['João', 'Maria', 'Pedro', 'Ana', 'Mark'],\n",
    "    'Idade': [25,30,35,40,34],\n",
    "    'Salario': [5000, 6000, 7000, 8000, 9000]\n",
    "}\n",
    "df = pd.DataFrame(dados)\n",
    "df"
   ]
  },
  {
   "cell_type": "code",
   "execution_count": 33,
   "metadata": {},
   "outputs": [
    {
     "name": "stdout",
     "output_type": "stream",
     "text": [
      "Nome João Idade 25\n",
      "Nome Maria Idade 30\n",
      "Nome Pedro Idade 35\n",
      "Nome Ana Idade 40\n",
      "Nome Mark Idade 34\n"
     ]
    }
   ],
   "source": [
    "i = 0\n",
    "while i < len(df):\n",
    "    print('Nome', df['Nome'][i], 'Idade', df['Idade'][i])\n",
    "    i += 1 "
   ]
  },
  {
   "cell_type": "code",
   "execution_count": 36,
   "metadata": {},
   "outputs": [
    {
     "name": "stdout",
     "output_type": "stream",
     "text": [
      "<class 'pandas.core.frame.DataFrame'>\n",
      "RangeIndex: 5 entries, 0 to 4\n",
      "Data columns (total 3 columns):\n",
      " #   Column   Non-Null Count  Dtype \n",
      "---  ------   --------------  ----- \n",
      " 0   Nome     5 non-null      object\n",
      " 1   Idade    5 non-null      int64 \n",
      " 2   Salario  5 non-null      int64 \n",
      "dtypes: int64(2), object(1)\n",
      "memory usage: 252.0+ bytes\n"
     ]
    }
   ],
   "source": [
    "df.info()\n"
   ]
  },
  {
   "cell_type": "code",
   "execution_count": 37,
   "metadata": {},
   "outputs": [],
   "source": [
    "df.to_csv('dados.csv')"
   ]
  },
  {
   "cell_type": "code",
   "execution_count": 38,
   "metadata": {},
   "outputs": [
    {
     "name": "stdout",
     "output_type": "stream",
     "text": [
      "Nome       Pedro\n",
      "Idade         35\n",
      "Salario     7000\n",
      "Name: 2, dtype: object\n",
      "Nome        Ana\n",
      "Idade        40\n",
      "Salario    8000\n",
      "Name: 3, dtype: object\n",
      "Nome       Mark\n",
      "Idade        34\n",
      "Salario    9000\n",
      "Name: 4, dtype: object\n"
     ]
    }
   ],
   "source": [
    "i = 0\n",
    "while i < len(df):\n",
    "    if df['Salario'][i] > 6000:\n",
    "        print(df.iloc[i]) #seleciona tds linhas e colunas de i\n",
    "    i += 1 "
   ]
  },
  {
   "cell_type": "code",
   "execution_count": null,
   "metadata": {},
   "outputs": [],
   "source": [
    "salario = df['Salario']\n",
    "print(salario)"
   ]
  },
  {
   "cell_type": "code",
   "execution_count": 40,
   "metadata": {},
   "outputs": [],
   "source": [
    "input = df[['Nome', 'Idade']]\n",
    "output = ['Salario']"
   ]
  },
  {
   "cell_type": "code",
   "execution_count": null,
   "metadata": {},
   "outputs": [],
   "source": [
    "#Estrutura de repeticao com fort\n",
    "\n",
    "for k in df['Salario']:\n",
    "    print(k)\n",
    "    "
   ]
  },
  {
   "cell_type": "code",
   "execution_count": 42,
   "metadata": {},
   "outputs": [
    {
     "name": "stdout",
     "output_type": "stream",
     "text": [
      "Média de Idade é 32.8\n",
      "Média de Salario é 7000.0\n"
     ]
    }
   ],
   "source": [
    "# seleciona colunas do tipo int e float. Pode ser outros tipos também \n",
    "for k in df.select_dtypes(include = [ 'int', 'float']):\n",
    "    media = df[k].mean()\n",
    "    print('Média de', k, 'é', media)\n"
   ]
  },
  {
   "cell_type": "code",
   "execution_count": 44,
   "metadata": {},
   "outputs": [
    {
     "name": "stdout",
     "output_type": "stream",
     "text": [
      "Média de Nome é Nome\n",
      "João     1\n",
      "Maria    1\n",
      "Pedro    1\n",
      "Ana      1\n",
      "Mark     1\n",
      "Name: count, dtype: int64\n"
     ]
    }
   ],
   "source": [
    "for k in df.select_dtypes(include = [ 'object']):\n",
    "    contador = df[k].value_counts()\n",
    "    print('Média de', k, 'é', contador)"
   ]
  },
  {
   "cell_type": "code",
   "execution_count": 5,
   "metadata": {},
   "outputs": [
    {
     "name": "stdout",
     "output_type": "stream",
     "text": [
      "5000.0\n",
      "5500.0\n",
      "6000.0\n",
      "6500.0\n",
      "7000.0\n"
     ]
    }
   ],
   "source": [
    "soma_salarios = 0\n",
    "\n",
    "i = 0\n",
    "\n",
    "while i < len(df):\n",
    "    soma_salarios += df['Salario'][i]\n",
    "    i += 1 \n",
    "\n",
    "    media_salarios = soma_salarios / i\n",
    "\n",
    "    print(media_salarios)"
   ]
  },
  {
   "cell_type": "code",
   "execution_count": 4,
   "metadata": {},
   "outputs": [
    {
     "name": "stdout",
     "output_type": "stream",
     "text": [
      "5000.0\n",
      "5500.0\n",
      "6000.0\n"
     ]
    }
   ],
   "source": [
    "soma_salarios = 0\n",
    "contador = 0\n",
    "i = 0\n",
    "\n",
    "while i < len(df):\n",
    "    soma_salarios += df['Salario'][i]\n",
    "    contador += 1\n",
    "    media_salarios = soma_salarios / contador\n",
    "    \n",
    "\n",
    "    if media_salarios > 6000:\n",
    "        break\n",
    "    i += 1 \n",
    "\n",
    "    print(media_salarios)"
   ]
  },
  {
   "cell_type": "code",
   "execution_count": 6,
   "metadata": {},
   "outputs": [
    {
     "name": "stdout",
     "output_type": "stream",
     "text": [
      "Bonus calculado é:  [0    500.0\n",
      "1    600.0\n",
      "2    700.0\n",
      "3    800.0\n",
      "4    900.0\n",
      "Name: Salario, dtype: float64, 0    500.0\n",
      "1    600.0\n",
      "2    700.0\n",
      "3    800.0\n",
      "4    900.0\n",
      "Name: Salario, dtype: float64, 0    500.0\n",
      "1    600.0\n",
      "2    700.0\n",
      "3    800.0\n",
      "4    900.0\n",
      "Name: Salario, dtype: float64, 0    500.0\n",
      "1    600.0\n",
      "2    700.0\n",
      "3    800.0\n",
      "4    900.0\n",
      "Name: Salario, dtype: float64, 0    500.0\n",
      "1    600.0\n",
      "2    700.0\n",
      "3    800.0\n",
      "4    900.0\n",
      "Name: Salario, dtype: float64]\n"
     ]
    }
   ],
   "source": [
    "def calcula_bonus(salario):\n",
    "    aumento = salario * 0.1\n",
    "    return aumento \n",
    "\n",
    "bonus = []\n",
    "\n",
    "for indice, linha in df.iterrows():\n",
    "    bonus.append(calcula_bonus(df['Salario']))\n",
    "\n",
    "print('Bonus calculado é: ', bonus)"
   ]
  },
  {
   "cell_type": "code",
   "execution_count": 7,
   "metadata": {},
   "outputs": [
    {
     "name": "stdout",
     "output_type": "stream",
     "text": [
      "João 25\n",
      "Maria 30\n",
      "Pedro 35\n",
      "Ana 40\n",
      "Mark 34\n"
     ]
    }
   ],
   "source": [
    "for index, row in df.iterrows():\n",
    "    print(row['Nome'], row['Idade'])"
   ]
  },
  {
   "cell_type": "code",
   "execution_count": 8,
   "metadata": {},
   "outputs": [
    {
     "name": "stdout",
     "output_type": "stream",
     "text": [
      "Pedro 35\n",
      "Ana 40\n",
      "Mark 34\n"
     ]
    }
   ],
   "source": [
    "for index, row in df.iterrows():\n",
    "    if row['Salario'] > 6000:\n",
    "        print(row['Nome'], row['Idade'])"
   ]
  },
  {
   "cell_type": "code",
   "execution_count": null,
   "metadata": {},
   "outputs": [],
   "source": []
  },
  {
   "cell_type": "markdown",
   "metadata": {},
   "source": [
    "Utilizando o dataframe manutenção preditiva, responda as seguintes questões:\n",
    "\n",
    "a) utilize o select dtypes para mostrar a media de todas as colunas numéricas.\n",
    "\n",
    "b) utlize o select dtypes para mostrar contar os valores das colunas não numéricas\n",
    "\n",
    "c) utilize uma estrutura de repetição  para mostrar todo dataset apenas quando as máquinas forem do tipo A. \n",
    "\n",
    "d) Utilize uma estrutura \n",
    "\n",
    "e) mostre a quantidadde de falhas por tipo "
   ]
  },
  {
   "cell_type": "code",
   "execution_count": 2,
   "metadata": {},
   "outputs": [
    {
     "name": "stdout",
     "output_type": "stream",
     "text": [
      "1 x 1 = 1\n",
      "1 x 2 = 2\n",
      "1 x 3 = 3\n",
      "1 x 4 = 4\n",
      "1 x 5 = 5\n",
      "1 x 6 = 6\n",
      "1 x 7 = 7\n",
      "1 x 8 = 8\n",
      "1 x 9 = 9\n",
      "1 x 10 = 10\n",
      "2 x 1 = 2\n",
      "2 x 2 = 4\n",
      "2 x 3 = 6\n",
      "2 x 4 = 8\n",
      "2 x 5 = 10\n",
      "2 x 6 = 12\n",
      "2 x 7 = 14\n",
      "2 x 8 = 16\n",
      "2 x 9 = 18\n",
      "2 x 10 = 20\n",
      "3 x 1 = 3\n",
      "3 x 2 = 6\n",
      "3 x 3 = 9\n",
      "3 x 4 = 12\n",
      "3 x 5 = 15\n",
      "3 x 6 = 18\n",
      "3 x 7 = 21\n",
      "3 x 8 = 24\n",
      "3 x 9 = 27\n",
      "3 x 10 = 30\n",
      "4 x 1 = 4\n",
      "4 x 2 = 8\n",
      "4 x 3 = 12\n",
      "4 x 4 = 16\n",
      "4 x 5 = 20\n",
      "4 x 6 = 24\n",
      "4 x 7 = 28\n",
      "4 x 8 = 32\n",
      "4 x 9 = 36\n",
      "4 x 10 = 40\n",
      "5 x 1 = 5\n",
      "5 x 2 = 10\n",
      "5 x 3 = 15\n",
      "5 x 4 = 20\n",
      "5 x 5 = 25\n",
      "5 x 6 = 30\n",
      "5 x 7 = 35\n",
      "5 x 8 = 40\n",
      "5 x 9 = 45\n",
      "5 x 10 = 50\n",
      "6 x 1 = 6\n",
      "6 x 2 = 12\n",
      "6 x 3 = 18\n",
      "6 x 4 = 24\n",
      "6 x 5 = 30\n",
      "6 x 6 = 36\n",
      "6 x 7 = 42\n",
      "6 x 8 = 48\n",
      "6 x 9 = 54\n",
      "6 x 10 = 60\n",
      "7 x 1 = 7\n",
      "7 x 2 = 14\n",
      "7 x 3 = 21\n",
      "7 x 4 = 28\n",
      "7 x 5 = 35\n",
      "7 x 6 = 42\n",
      "7 x 7 = 49\n",
      "7 x 8 = 56\n",
      "7 x 9 = 63\n",
      "7 x 10 = 70\n",
      "8 x 1 = 8\n",
      "8 x 2 = 16\n",
      "8 x 3 = 24\n",
      "8 x 4 = 32\n",
      "8 x 5 = 40\n",
      "8 x 6 = 48\n",
      "8 x 7 = 56\n",
      "8 x 8 = 64\n",
      "8 x 9 = 72\n",
      "8 x 10 = 80\n",
      "9 x 1 = 9\n",
      "9 x 2 = 18\n",
      "9 x 3 = 27\n",
      "9 x 4 = 36\n",
      "9 x 5 = 45\n",
      "9 x 6 = 54\n",
      "9 x 7 = 63\n",
      "9 x 8 = 72\n",
      "9 x 9 = 81\n",
      "9 x 10 = 90\n",
      "10 x 1 = 10\n",
      "10 x 2 = 20\n",
      "10 x 3 = 30\n",
      "10 x 4 = 40\n",
      "10 x 5 = 50\n",
      "10 x 6 = 60\n",
      "10 x 7 = 70\n",
      "10 x 8 = 80\n",
      "10 x 9 = 90\n",
      "10 x 10 = 100\n"
     ]
    }
   ],
   "source": [
    "for i in range (1,11):\n",
    "    for k in range(1,11):\n",
    "        print(f\"{i} x {k} = {i*k}\")"
   ]
  },
  {
   "cell_type": "code",
   "execution_count": 3,
   "metadata": {},
   "outputs": [
    {
     "name": "stdout",
     "output_type": "stream",
     "text": [
      "Nota igual encontrada: 7\n",
      "Nota igual encontrada: 8\n",
      "Nota igual encontrada: 9\n",
      "Nota igual encontrada: 10\n"
     ]
    }
   ],
   "source": [
    "alunos1 = [7,8,9,10,6]\n",
    "alunos2 = [8,9,10,5,7]\n",
    "\n",
    "for nota1 in alunos1:\n",
    "    for nota2 in alunos2:\n",
    "        if nota1 == nota2:\n",
    "            print(f\"Nota igual encontrada: {nota1}\")\n"
   ]
  },
  {
   "cell_type": "code",
   "execution_count": 4,
   "metadata": {},
   "outputs": [
    {
     "name": "stdout",
     "output_type": "stream",
     "text": [
      "A soma dos elementos na posicao 0 é 5\n",
      "A soma dos elementos na posicao 1 é 7\n",
      "A soma dos elementos na posicao 2 é 9\n"
     ]
    }
   ],
   "source": [
    "# \n",
    "\n",
    "lista1 = [1,2,3]\n",
    "lista2 = [4,5,6]\n",
    "\n",
    "for i in range(len(lista1)):\n",
    "    for k in range(len(lista2)):\n",
    "        if i == k:\n",
    "            print(f'A soma dos elementos na posicao {i} é {lista1[i] + lista2[k]}')"
   ]
  },
  {
   "cell_type": "code",
   "execution_count": 5,
   "metadata": {},
   "outputs": [
    {
     "name": "stdout",
     "output_type": "stream",
     "text": [
      "A palavra python tem 1 vogais\n",
      "A palavra matlab tem 2 vogais\n",
      "A palavra javascript tem 3 vogais\n",
      "A palavra vscode tem 2 vogais\n",
      "A palavra spyder tem 1 vogais\n"
     ]
    }
   ],
   "source": [
    "palavras = ['python', 'matlab', 'javascript', 'vscode', 'spyder']\n",
    "vogais = 'aeiou'\n",
    "\n",
    "for palavra in palavras:\n",
    "    count_vogais = 0 #inicializou a variavel \n",
    "    \n",
    "    for letra in palavra:\n",
    "        if letra in vogais:\n",
    "            count_vogais += 1\n",
    "\n",
    "    print(f'A palavra {palavra} tem {count_vogais} vogais')\n"
   ]
  },
  {
   "cell_type": "code",
   "execution_count": null,
   "metadata": {},
   "outputs": [],
   "source": [
    "1. Crie uma estrutura para mostrar uma tabuada que calcule a multiplicacao de numeros de 2 a 6. \n",
    "2. Crie uma estrutura para contar as consoantes nas palavras da lista abaixo lista_palavras = ['brazil', 'inglaterra', 'estados unidos', 'canada', 'chile']\n",
    "3. Crie uma estrutura para verificar se as palavras-chave aparecem nos parágrafos: lista_texto = ['hoje é sexta-feira', 'em 2022, tivemos a copa do mundo', 'a melhor forma de estudar python é praticar']\n",
    "palavras_chave = ['hoje', 'mundo', 'estudar', 'praticar']\n",
    "\n",
    "ESTUDAR APPLY (row, axis) , LAMBDA APLICADO A DATAFRAME"
   ]
  },
  {
   "cell_type": "code",
   "execution_count": null,
   "metadata": {},
   "outputs": [],
   "source": [
    "#1\n",
    "for i in range(2,7):\n",
    "    for k in range(2,7):\n",
    "        print(f'{i} x {k} = {i*k}')\n"
   ]
  },
  {
   "cell_type": "code",
   "execution_count": 9,
   "metadata": {},
   "outputs": [
    {
     "name": "stdout",
     "output_type": "stream",
     "text": [
      "A palavra brazil tem 4.\n",
      "A palavra inglaterra tem 6.\n",
      "A palavra estados unidos tem 7.\n",
      "A palavra canada tem 3.\n",
      "A palavra chile tem 3.\n"
     ]
    }
   ],
   "source": [
    "#2\n",
    "lista_palavras = ['brazil', 'inglaterra', 'estados unidos', 'canada', 'chile']\n",
    "\n",
    "consoantes = 'bcdfghjklmnpqrstvwxyz'\n",
    "\n",
    "for palavra in lista_palavras:\n",
    "    count_consoantes = 0\n",
    "    for letra in palavra:\n",
    "        if letra in consoantes:\n",
    "            count_consoantes += 1\n",
    "    print(f'A palavra {palavra} tem {count_consoantes}.')\n"
   ]
  },
  {
   "cell_type": "code",
   "execution_count": 27,
   "metadata": {},
   "outputs": [
    {
     "name": "stdout",
     "output_type": "stream",
     "text": [
      "A palavra-chave ['hoje', 'mundo', 'estudar', 'praticar'] está no parágrafo hoje\n",
      "A palavra-chave ['hoje', 'mundo', 'estudar', 'praticar'] está no parágrafo mundo\n",
      "A palavra-chave ['hoje', 'mundo', 'estudar', 'praticar'] está no parágrafo estudar\n",
      "A palavra-chave ['hoje', 'mundo', 'estudar', 'praticar'] está no parágrafo praticar\n"
     ]
    }
   ],
   "source": [
    "#3 \n",
    "lista_texto = ['hoje é sexta-feira', 'em 2022, tivemos a copa do mundo', 'a melhor forma de estudar python é praticar']\n",
    "\n",
    "palavras_chave = ['hoje', 'mundo', 'estudar', 'praticar']\n",
    "\n",
    "\n",
    "for texto in lista_texto:\n",
    "     x=  texto.split(' ')\n",
    "     for palavra in x:\n",
    "          if palavra in palavras_chave:\n",
    "               print(f'A palavra-chave {palavras_chave} está no parágrafo {palavra}')\n"
   ]
  },
  {
   "cell_type": "code",
   "execution_count": null,
   "metadata": {},
   "outputs": [],
   "source": [
    "import pandas as pd\n",
    "\n",
    "df = pd.DataFrame([[4,5,6], [7,8,9]], columns=['coluna1', 'coluna2'])\n",
    "\n",
    "df_normalizado = df.apply(lambda col: (col - col.min()) / (col.max() - col.min()))\n",
    "df_normalizado\n",
    "\n"
   ]
  },
  {
   "cell_type": "code",
   "execution_count": 30,
   "metadata": {},
   "outputs": [
    {
     "data": {
      "text/html": [
       "<div>\n",
       "<style scoped>\n",
       "    .dataframe tbody tr th:only-of-type {\n",
       "        vertical-align: middle;\n",
       "    }\n",
       "\n",
       "    .dataframe tbody tr th {\n",
       "        vertical-align: top;\n",
       "    }\n",
       "\n",
       "    .dataframe thead th {\n",
       "        text-align: right;\n",
       "    }\n",
       "</style>\n",
       "<table border=\"1\" class=\"dataframe\">\n",
       "  <thead>\n",
       "    <tr style=\"text-align: right;\">\n",
       "      <th></th>\n",
       "      <th>nome</th>\n",
       "      <th>nome completo</th>\n",
       "    </tr>\n",
       "  </thead>\n",
       "  <tbody>\n",
       "    <tr>\n",
       "      <th>0</th>\n",
       "      <td>alice</td>\n",
       "      <td>alicesilva</td>\n",
       "    </tr>\n",
       "    <tr>\n",
       "      <th>1</th>\n",
       "      <td>maria</td>\n",
       "      <td>mariasilva</td>\n",
       "    </tr>\n",
       "    <tr>\n",
       "      <th>2</th>\n",
       "      <td>pedro</td>\n",
       "      <td>pedrosilva</td>\n",
       "    </tr>\n",
       "    <tr>\n",
       "      <th>3</th>\n",
       "      <td>thiago</td>\n",
       "      <td>thiagosilva</td>\n",
       "    </tr>\n",
       "  </tbody>\n",
       "</table>\n",
       "</div>"
      ],
      "text/plain": [
       "     nome nome completo\n",
       "0   alice    alicesilva\n",
       "1   maria    mariasilva\n",
       "2   pedro    pedrosilva\n",
       "3  thiago   thiagosilva"
      ]
     },
     "execution_count": 30,
     "metadata": {},
     "output_type": "execute_result"
    }
   ],
   "source": [
    "df = pd.DataFrame({\n",
    "    'nome': ['alice', 'maria', 'pedro', 'thiago']\n",
    "})\n",
    "df['nome completo'] = df.apply(lambda x: x + 'silva')\n",
    "df"
   ]
  },
  {
   "cell_type": "markdown",
   "metadata": {},
   "source": [
    "AULA DE BUSCA"
   ]
  },
  {
   "cell_type": "markdown",
   "metadata": {},
   "source": [
    "# Estrutura de dados em Json\n"
   ]
  },
  {
   "cell_type": "code",
   "execution_count": 1,
   "metadata": {},
   "outputs": [
    {
     "data": {
      "text/plain": [
       "{'nome': 'joão', 'idade': 20, 'cidade': 'São Paulo'}"
      ]
     },
     "execution_count": 1,
     "metadata": {},
     "output_type": "execute_result"
    }
   ],
   "source": [
    "import json\n",
    "\n",
    "data = {\n",
    "    'nome': 'joão', \n",
    "    'idade': 20, \n",
    "    'cidade': 'São Paulo'\n",
    "}\n",
    "data "
   ]
  },
  {
   "cell_type": "code",
   "execution_count": 3,
   "metadata": {},
   "outputs": [],
   "source": [
    "#escrever dados \n",
    "with open('exemplo_json.json', 'w') as json_file:\n",
    "    json.dump(data, json_file) # usa a biblio json pra salvar o dado \n",
    "\n",
    "#criou o arquivo"
   ]
  },
  {
   "cell_type": "code",
   "execution_count": 4,
   "metadata": {},
   "outputs": [],
   "source": [
    "# ler dados\n",
    "\n",
    "with open('exemplo_json.json', 'r') as json_file:\n",
    "    df_json = json.load(json_file)"
   ]
  },
  {
   "cell_type": "code",
   "execution_count": 5,
   "metadata": {},
   "outputs": [
    {
     "data": {
      "text/plain": [
       "{'nome': 'joão', 'idade': 20, 'cidade': 'São Paulo'}"
      ]
     },
     "execution_count": 5,
     "metadata": {},
     "output_type": "execute_result"
    }
   ],
   "source": [
    "df_json"
   ]
  },
  {
   "cell_type": "markdown",
   "metadata": {},
   "source": [
    "# Estrutura de dados em CSV"
   ]
  },
  {
   "cell_type": "code",
   "execution_count": 6,
   "metadata": {},
   "outputs": [
    {
     "data": {
      "text/plain": [
       "{'nome': ['ana', 'pedro', 'maria', 'camila'],\n",
       " 'idade': [20, 49, 34, 23],\n",
       " 'cidade': ['São Paulo', 'Fortaleza', 'Rio de Janeiro', 'Curitiba']}"
      ]
     },
     "execution_count": 6,
     "metadata": {},
     "output_type": "execute_result"
    }
   ],
   "source": [
    "import pandas as pd\n",
    "data = {\n",
    "    'nome': ['ana', 'pedro', 'maria', 'camila'],\n",
    "    'idade': [20, 49, 34, 23],\n",
    "    'cidade': ['São Paulo', 'Fortaleza', 'Rio de Janeiro', 'Curitiba']\n",
    "}\n",
    "data "
   ]
  },
  {
   "cell_type": "code",
   "execution_count": 8,
   "metadata": {},
   "outputs": [],
   "source": [
    "df_csv = pd.DataFrame(data)\n",
    "df_csv\n",
    "df_csv.to_csv('exemplo_csv.csv', index = False)"
   ]
  },
  {
   "cell_type": "code",
   "execution_count": 10,
   "metadata": {},
   "outputs": [
    {
     "data": {
      "text/html": [
       "<div>\n",
       "<style scoped>\n",
       "    .dataframe tbody tr th:only-of-type {\n",
       "        vertical-align: middle;\n",
       "    }\n",
       "\n",
       "    .dataframe tbody tr th {\n",
       "        vertical-align: top;\n",
       "    }\n",
       "\n",
       "    .dataframe thead th {\n",
       "        text-align: right;\n",
       "    }\n",
       "</style>\n",
       "<table border=\"1\" class=\"dataframe\">\n",
       "  <thead>\n",
       "    <tr style=\"text-align: right;\">\n",
       "      <th></th>\n",
       "      <th>nome</th>\n",
       "      <th>idade</th>\n",
       "      <th>cidade</th>\n",
       "    </tr>\n",
       "  </thead>\n",
       "  <tbody>\n",
       "    <tr>\n",
       "      <th>0</th>\n",
       "      <td>ana</td>\n",
       "      <td>20</td>\n",
       "      <td>São Paulo</td>\n",
       "    </tr>\n",
       "    <tr>\n",
       "      <th>1</th>\n",
       "      <td>pedro</td>\n",
       "      <td>49</td>\n",
       "      <td>Fortaleza</td>\n",
       "    </tr>\n",
       "    <tr>\n",
       "      <th>2</th>\n",
       "      <td>maria</td>\n",
       "      <td>34</td>\n",
       "      <td>Rio de Janeiro</td>\n",
       "    </tr>\n",
       "    <tr>\n",
       "      <th>3</th>\n",
       "      <td>camila</td>\n",
       "      <td>23</td>\n",
       "      <td>Curitiba</td>\n",
       "    </tr>\n",
       "  </tbody>\n",
       "</table>\n",
       "</div>"
      ],
      "text/plain": [
       "     nome  idade          cidade\n",
       "0     ana     20       São Paulo\n",
       "1   pedro     49       Fortaleza\n",
       "2   maria     34  Rio de Janeiro\n",
       "3  camila     23        Curitiba"
      ]
     },
     "execution_count": 10,
     "metadata": {},
     "output_type": "execute_result"
    }
   ],
   "source": [
    "# Lendo arquivo csv\n",
    "\n",
    "df_csv = pd.read_csv('/Users/diegoc85/Downloads/Python/Aulas_Python/exemplo_csv.csv')\n",
    "df_csv"
   ]
  },
  {
   "cell_type": "code",
   "execution_count": 17,
   "metadata": {},
   "outputs": [
    {
     "name": "stdout",
     "output_type": "stream",
     "text": [
      "Collecting openpyxl\n",
      "  Downloading openpyxl-3.1.5-py2.py3-none-any.whl.metadata (2.5 kB)\n",
      "Collecting et-xmlfile (from openpyxl)\n",
      "  Downloading et_xmlfile-1.1.0-py3-none-any.whl.metadata (1.8 kB)\n",
      "Downloading openpyxl-3.1.5-py2.py3-none-any.whl (250 kB)\n",
      "Downloading et_xmlfile-1.1.0-py3-none-any.whl (4.7 kB)\n",
      "Installing collected packages: et-xmlfile, openpyxl\n",
      "Successfully installed et-xmlfile-1.1.0 openpyxl-3.1.5\n",
      "Note: you may need to restart the kernel to use updated packages.\n"
     ]
    }
   ],
   "source": [
    "pip install openpyxl"
   ]
  },
  {
   "cell_type": "code",
   "execution_count": 18,
   "metadata": {},
   "outputs": [],
   "source": [
    "import pandas as pd\n",
    "# import openpyxl\n",
    "\n",
    "data = {\n",
    "    'nome': ['ana', 'pedro', 'maria', 'camila'],\n",
    "    'idade': [20, 49, 34, 23],\n",
    "    'cidade': ['São Paulo', 'Fortaleza', 'Rio de Janeiro', 'Curitiba']\n",
    "}\n",
    "df_excel = pd.DataFrame(data)\n",
    "df_excel.to_excel('exemplo_excel.xlsx')\n"
   ]
  },
  {
   "cell_type": "markdown",
   "metadata": {},
   "source": [
    "# Exercicios\n"
   ]
  },
  {
   "cell_type": "code",
   "execution_count": 19,
   "metadata": {},
   "outputs": [
    {
     "data": {
      "text/plain": [
       "{'Nome': ['Ana', 'Pedro', 'Maria', 'Camila'],\n",
       " 'Profissão': ['Contador', 'Engenheiro', 'Arquiteto', 'Bancário'],\n",
       " 'Idade': [20, 45, 43, 68],\n",
       " 'Sexo': ['M', 'F']}"
      ]
     },
     "execution_count": 19,
     "metadata": {},
     "output_type": "execute_result"
    }
   ],
   "source": [
    "import json\n",
    "\n",
    "data = {\n",
    "    'Nome': ['Ana', 'Pedro', 'Maria', 'Camila'], \n",
    "    'Profissão': ['Contador', 'Engenheiro', 'Arquiteto', 'Bancário'],\n",
    "    'Idade': [20, 45, 43, 68],\n",
    "    'Sexo': ['F', 'M', 'F', 'F']\n",
    "\n",
    "}\n",
    "data"
   ]
  },
  {
   "cell_type": "code",
   "execution_count": 20,
   "metadata": {},
   "outputs": [],
   "source": [
    "with open('exercicio1.json', 'w') as json_file:\n",
    "    json.dump(data, json_file)"
   ]
  },
  {
   "cell_type": "code",
   "execution_count": 21,
   "metadata": {},
   "outputs": [],
   "source": [
    "with open('exemplo_json.json', 'r') as json_file:\n",
    "    df_json = json.load(json_file)"
   ]
  },
  {
   "cell_type": "code",
   "execution_count": 22,
   "metadata": {},
   "outputs": [
    {
     "data": {
      "text/plain": [
       "{'nome': 'joão', 'idade': 20, 'cidade': 'São Paulo'}"
      ]
     },
     "execution_count": 22,
     "metadata": {},
     "output_type": "execute_result"
    }
   ],
   "source": [
    "df_json\n",
    "# JSon nao precisa transformar para Data Frame"
   ]
  },
  {
   "cell_type": "code",
   "execution_count": 23,
   "metadata": {},
   "outputs": [
    {
     "data": {
      "text/plain": [
       "{'Nome': ['Ana', 'Pedro', 'Maria', 'Camila'],\n",
       " 'Profissão': ['Contador', 'Engenheiro', 'Arquiteto', 'Bancário'],\n",
       " 'Idade': [20, 45, 43, 68],\n",
       " 'Sexo': ['F', 'M', 'F', 'F']}"
      ]
     },
     "execution_count": 23,
     "metadata": {},
     "output_type": "execute_result"
    }
   ],
   "source": [
    "data = {\n",
    "    'Nome': ['Ana', 'Pedro', 'Maria', 'Camila'], \n",
    "    'Profissão': ['Contador', 'Engenheiro', 'Arquiteto', 'Bancário'],\n",
    "    'Idade': [20, 45, 43, 68],\n",
    "    'Sexo': ['F', 'M', 'F', 'F']\n",
    "\n",
    "}\n",
    "data\n"
   ]
  },
  {
   "cell_type": "code",
   "execution_count": 24,
   "metadata": {},
   "outputs": [],
   "source": [
    "df_csv = pd.DataFrame(data) # passar pr DF antes do CSV\n",
    "df_csv\n",
    "df_csv.to_csv('exercicio1.csv', index = False)"
   ]
  },
  {
   "cell_type": "code",
   "execution_count": 25,
   "metadata": {},
   "outputs": [
    {
     "data": {
      "text/html": [
       "<div>\n",
       "<style scoped>\n",
       "    .dataframe tbody tr th:only-of-type {\n",
       "        vertical-align: middle;\n",
       "    }\n",
       "\n",
       "    .dataframe tbody tr th {\n",
       "        vertical-align: top;\n",
       "    }\n",
       "\n",
       "    .dataframe thead th {\n",
       "        text-align: right;\n",
       "    }\n",
       "</style>\n",
       "<table border=\"1\" class=\"dataframe\">\n",
       "  <thead>\n",
       "    <tr style=\"text-align: right;\">\n",
       "      <th></th>\n",
       "      <th>Nome</th>\n",
       "      <th>Profissão</th>\n",
       "      <th>Idade</th>\n",
       "      <th>Sexo</th>\n",
       "    </tr>\n",
       "  </thead>\n",
       "  <tbody>\n",
       "    <tr>\n",
       "      <th>0</th>\n",
       "      <td>Ana</td>\n",
       "      <td>Contador</td>\n",
       "      <td>20</td>\n",
       "      <td>F</td>\n",
       "    </tr>\n",
       "    <tr>\n",
       "      <th>1</th>\n",
       "      <td>Pedro</td>\n",
       "      <td>Engenheiro</td>\n",
       "      <td>45</td>\n",
       "      <td>M</td>\n",
       "    </tr>\n",
       "    <tr>\n",
       "      <th>2</th>\n",
       "      <td>Maria</td>\n",
       "      <td>Arquiteto</td>\n",
       "      <td>43</td>\n",
       "      <td>F</td>\n",
       "    </tr>\n",
       "    <tr>\n",
       "      <th>3</th>\n",
       "      <td>Camila</td>\n",
       "      <td>Bancário</td>\n",
       "      <td>68</td>\n",
       "      <td>F</td>\n",
       "    </tr>\n",
       "  </tbody>\n",
       "</table>\n",
       "</div>"
      ],
      "text/plain": [
       "     Nome   Profissão  Idade Sexo\n",
       "0     Ana    Contador     20    F\n",
       "1   Pedro  Engenheiro     45    M\n",
       "2   Maria   Arquiteto     43    F\n",
       "3  Camila    Bancário     68    F"
      ]
     },
     "execution_count": 25,
     "metadata": {},
     "output_type": "execute_result"
    }
   ],
   "source": [
    "df_csv = pd.read_csv('/Users/diegoc85/Downloads/Python/Aulas_Python/exercicio1.csv')\n",
    "df_csv"
   ]
  },
  {
   "cell_type": "code",
   "execution_count": 26,
   "metadata": {},
   "outputs": [
    {
     "data": {
      "text/plain": [
       "{'Nome': ['Ana', 'Pedro', 'Maria', 'Camila'],\n",
       " 'Profissão': ['Contador', 'Engenheiro', 'Arquiteto', 'Bancário'],\n",
       " 'Idade': [20, 45, 43, 68],\n",
       " 'Sexo': ['F', 'M', 'F', 'F']}"
      ]
     },
     "execution_count": 26,
     "metadata": {},
     "output_type": "execute_result"
    }
   ],
   "source": [
    "data = {\n",
    "    'Nome': ['Ana', 'Pedro', 'Maria', 'Camila'], \n",
    "    'Profissão': ['Contador', 'Engenheiro', 'Arquiteto', 'Bancário'],\n",
    "    'Idade': [20, 45, 43, 68],\n",
    "    'Sexo': ['F', 'M', 'F', 'F']\n",
    "\n",
    "}\n",
    "data\n"
   ]
  },
  {
   "cell_type": "code",
   "execution_count": 27,
   "metadata": {},
   "outputs": [],
   "source": [
    "df_excel = pd.DataFrame(data)\n",
    "df_excel.to_excel('exemplo1.xlsx')"
   ]
  },
  {
   "cell_type": "code",
   "execution_count": 29,
   "metadata": {},
   "outputs": [
    {
     "name": "stdout",
     "output_type": "stream",
     "text": [
      " Nome:' Ana, Idade: 20, Profissão: Contador\n",
      " Nome:' Pedro, Idade: 45, Profissão: Engenheiro\n",
      " Nome:' Maria, Idade: 43, Profissão: Arquiteto\n",
      " Nome:' Camila, Idade: 68, Profissão: Bancário\n"
     ]
    }
   ],
   "source": [
    "for i in range(len(df_csv)):\n",
    "    print(f\" Nome:' {df_csv['Nome'][i]}, Idade: {df_csv['Idade'][i]}, Profissão: {df_csv['Profissão'][i]}\")"
   ]
  },
  {
   "cell_type": "code",
   "execution_count": 30,
   "metadata": {},
   "outputs": [
    {
     "name": "stdout",
     "output_type": "stream",
     "text": [
      "Nome:Ana, Idade:20, Profissão:Contador\n",
      "Nome:Pedro, Idade:45, Profissão:Engenheiro\n",
      "Nome:Maria, Idade:43, Profissão:Arquiteto\n",
      "Nome:Camila, Idade:68, Profissão:Bancário\n"
     ]
    }
   ],
   "source": [
    "i = 0\n",
    "\n",
    "while i < len(df_csv['Nome']):\n",
    "    print(f\"Nome:{df_csv['Nome'][i]}, Idade:{df_csv['Idade'][i]}, Profissão:{df_csv['Profissão'][i]}\")\n",
    "    i += 1"
   ]
  },
  {
   "cell_type": "code",
   "execution_count": 36,
   "metadata": {},
   "outputs": [
    {
     "name": "stdout",
     "output_type": "stream",
     "text": [
      "Nome: Ana, Idade: 20, Profissão: Contador\n",
      "Nome não encontrado.\n"
     ]
    }
   ],
   "source": [
    "df_csv = {\n",
    "    'Nome': ['Ana', 'Pedro', 'Maria', 'Camila'], \n",
    "    'Profissão': ['Contador', 'Engenheiro', 'Arquiteto', 'Bancário'],\n",
    "    'Idade': [20, 45, 43, 68],\n",
    "    'Sexo': ['F', 'M', 'F', 'F']\n",
    "\n",
    "}\n",
    "\n",
    "dados = pd.DataFrame(df_csv)\n",
    "\n",
    "def buscar_info(nome, dados):\n",
    "    if nome in dados['Nome']:\n",
    "        index = dados['Nome'].index(nome)\n",
    "        return f\"Nome: {nome}, Idade: {dados['Idade'][index]}, Profissão: {dados['Profissão'][index]}\"\n",
    "    else:\n",
    "        return 'Nome não encontrado.'\n",
    "    \n",
    "print(buscar_info('Ana', df_csv))\n",
    "print(buscar_info('Carlos', df_csv))\n"
   ]
  },
  {
   "cell_type": "code",
   "execution_count": 38,
   "metadata": {},
   "outputs": [
    {
     "data": {
      "text/html": [
       "<div>\n",
       "<style scoped>\n",
       "    .dataframe tbody tr th:only-of-type {\n",
       "        vertical-align: middle;\n",
       "    }\n",
       "\n",
       "    .dataframe tbody tr th {\n",
       "        vertical-align: top;\n",
       "    }\n",
       "\n",
       "    .dataframe thead th {\n",
       "        text-align: right;\n",
       "    }\n",
       "</style>\n",
       "<table border=\"1\" class=\"dataframe\">\n",
       "  <thead>\n",
       "    <tr style=\"text-align: right;\">\n",
       "      <th></th>\n",
       "      <th>Nome</th>\n",
       "      <th>Profissão</th>\n",
       "      <th>Idade</th>\n",
       "      <th>Sexo</th>\n",
       "    </tr>\n",
       "  </thead>\n",
       "  <tbody>\n",
       "    <tr>\n",
       "      <th>0</th>\n",
       "      <td>Ana</td>\n",
       "      <td>Contador</td>\n",
       "      <td>20</td>\n",
       "      <td>F</td>\n",
       "    </tr>\n",
       "    <tr>\n",
       "      <th>1</th>\n",
       "      <td>Pedro</td>\n",
       "      <td>Engenheiro</td>\n",
       "      <td>45</td>\n",
       "      <td>M</td>\n",
       "    </tr>\n",
       "    <tr>\n",
       "      <th>2</th>\n",
       "      <td>Maria</td>\n",
       "      <td>Arquiteto</td>\n",
       "      <td>43</td>\n",
       "      <td>F</td>\n",
       "    </tr>\n",
       "    <tr>\n",
       "      <th>3</th>\n",
       "      <td>Camila</td>\n",
       "      <td>Bancário</td>\n",
       "      <td>68</td>\n",
       "      <td>F</td>\n",
       "    </tr>\n",
       "  </tbody>\n",
       "</table>\n",
       "</div>"
      ],
      "text/plain": [
       "     Nome   Profissão  Idade Sexo\n",
       "0     Ana    Contador     20    F\n",
       "1   Pedro  Engenheiro     45    M\n",
       "2   Maria   Arquiteto     43    F\n",
       "3  Camila    Bancário     68    F"
      ]
     },
     "execution_count": 38,
     "metadata": {},
     "output_type": "execute_result"
    }
   ],
   "source": [
    "dados"
   ]
  },
  {
   "cell_type": "code",
   "execution_count": 39,
   "metadata": {},
   "outputs": [
    {
     "name": "stdout",
     "output_type": "stream",
     "text": [
      "A média de idade é: 44.0\n"
     ]
    }
   ],
   "source": [
    "calcular_media = lambda idades: sum(idades) / len(idades)\n",
    "media_idade = calcular_media(dados['Idade'])\n",
    "print(f\"A média de idade é: {media_idade}\")"
   ]
  },
  {
   "cell_type": "code",
   "execution_count": 1,
   "metadata": {},
   "outputs": [
    {
     "name": "stdout",
     "output_type": "stream",
     "text": [
      "Maria 35\n",
      "Mark 32\n",
      "[['Maria', 'Mark']]\n",
      "[[35, 32]]\n"
     ]
    }
   ],
   "source": [
    "#problema reclacionado a pessoas\n",
    "\n",
    "class Pessoa:\n",
    "    def __init__(self, nome, idade):\n",
    "        self.nome = nome\n",
    "        self.idade = idade \n",
    "\n",
    "p1 = Pessoa('Maria', 35)\n",
    "p2 = Pessoa('Mark', 32)\n",
    "\n",
    "print(p1.nome, p1.idade)\n",
    "print(p2.nome, p2.idade)\n",
    "\n",
    "lista_nomes = []\n",
    "lista_idades = []\n",
    "lista_pessoas = []\n",
    "\n",
    "lista_pessoas.append([p1.nome, p2.nome])\n",
    "lista_idades.append([p1.idade, p2.idade])\n",
    "\n",
    "print(lista_pessoas)\n",
    "print(lista_idades)\n",
    "\n"
   ]
  },
  {
   "cell_type": "code",
   "execution_count": 3,
   "metadata": {},
   "outputs": [
    {
     "name": "stdout",
     "output_type": "stream",
     "text": [
      "toyota corolla\n",
      "honda civic\n",
      "6\n",
      "6\n"
     ]
    }
   ],
   "source": [
    "class Carro:\n",
    "    rodas = 4\n",
    "    def __init__(self, marca, modelo):\n",
    "        self.marca = marca\n",
    "        self.modelo = modelo\n",
    "\n",
    "carro1 = Carro('toyota', 'corolla')\n",
    "carro2 = Carro('honda', 'civic')\n",
    "\n",
    "print(carro1.marca, carro1.modelo)\n",
    "print(carro2.marca, carro2.modelo)\n",
    "\n",
    "Carro.rodas = 6\n",
    "\n",
    "print(carro1.rodas)\n",
    "print(carro2.rodas)"
   ]
  },
  {
   "cell_type": "code",
   "execution_count": null,
   "metadata": {},
   "outputs": [
    {
     "name": "stdout",
     "output_type": "stream",
     "text": [
      "Area,4\n",
      "Perimetro, 12\n"
     ]
    }
   ],
   "source": [
    "class Retangulo:\n",
    "    def __init__(self, largura, altura, comprimento): # 3 parametros \n",
    "        self.largura = largura\n",
    "        self.altura = altura\n",
    "        self.comprimento = comprimento \n",
    "\n",
    "    def calcular_area(self):\n",
    "        return self.largura * self.largura\n",
    "    \n",
    "    def calcular_perimetro(self):\n",
    "        return (2*self.largura) + (2*self.altura)\n",
    "    \n",
    "    def calcular_volume(self):\n",
    "        return self.largura * self.altura * self.comprimento\n",
    "\n",
    "retangulo1 = Retangulo(2,4, 5)\n",
    "\n",
    "print(f\"Area,{retangulo1.calcular_area()}\")\n",
    "print(f\"Perimetro, {retangulo1.calcular_perimetro()}\")\n",
    "print(f\"Volume, {retangulo1.calcular_volume()}\")\n",
    "\n",
    "#self é para poder atribuir os parametros (variaveis) ao objeto que sera criado retangulo1. "
   ]
  },
  {
   "cell_type": "code",
   "execution_count": 5,
   "metadata": {},
   "outputs": [
    {
     "name": "stdout",
     "output_type": "stream",
     "text": [
      "Titulo: O Senhor dos Aneis, Autor: J.R.R Tolkien\n",
      "Titulo: Harry Potter, Autor: J.K. Rolling\n"
     ]
    }
   ],
   "source": [
    "# classe Livros\n",
    "\n",
    "class Livro:\n",
    "    def __init__(self, titulo, autor):\n",
    "        self.titulo = titulo\n",
    "        self.autor = autor\n",
    "\n",
    "    def detalhes(self):\n",
    "        return (f\"Titulo: {self.titulo}, Autor: {self.autor}\")\n",
    "\n",
    "livro1 = Livro('O Senhor dos Aneis', 'J.R.R Tolkien')\n",
    "livro2 = Livro('Harry Potter', 'J.K. Rolling')\n",
    "\n",
    "print(livro1.detalhes())\n",
    "print(livro2.detalhes())"
   ]
  },
  {
   "cell_type": "markdown",
   "metadata": {},
   "source": [
    "Sistema de Gerenciamento de Reservas de Hotel - Criar um sistema de gerenciamento de reservas de hotel que permita adicionar, remover e listar reservas. Cada reserva deve incluir o nome do hóspede, o tipo de quarto e a duração da estadia. O sistema também deve calcular o custo total da estadia com base no tipo de quarto. Utilize função def e/ou lambda e explique seu algoritmo."
   ]
  },
  {
   "cell_type": "code",
   "execution_count": null,
   "metadata": {},
   "outputs": [
    {
     "name": "stdout",
     "output_type": "stream",
     "text": [
      "Nome: Diego, Quarto: luxo, Duração da estadia: 10 dias, Custo Total da Estadia: R$2500\n",
      "Nome: Rafael, Quarto: padrao, Duração da estadia: 5 dias, Custo Total da Estadia: R$500\n",
      "Nome: Carol, Quarto: padrao, Duração da estadia: 20 dias, Custo Total da Estadia: R$2000\n",
      "Nome: Diego, Quarto: luxo, Duração da estadia: 10 dias, Custo Total da Estadia: R$2500\n",
      "Nome: Carol, Quarto: padrao, Duração da estadia: 20 dias, Custo Total da Estadia: R$2000\n"
     ]
    }
   ],
   "source": [
    "\n",
    "reservas = []\n",
    "\n",
    "def adicionar_reserva(nome, quarto, dias):\n",
    "    if quarto == 'padrao':\n",
    "        preco = 100\n",
    "    elif quarto == 'luxo':\n",
    "        preco = 250\n",
    "    elif quarto == 'suite_master':\n",
    "        preco = 500\n",
    "    else:\n",
    "        preco = 0\n",
    "    custo_total = preco * dias\n",
    "\n",
    "    reservas.append({'nome': nome, 'quarto': quarto, 'duracao da estadia': dias, 'custo total da estadia': custo_total})\n",
    "\n",
    "\n",
    "\n",
    "def listar_reservas():\n",
    "    for reserva in reservas:\n",
    "        print(f\"Nome: {reserva['nome']}, Quarto: {reserva['quarto']}, Duração da estadia: {reserva['duracao da estadia']} dias, Custo Total da Estadia: R${reserva['custo total da estadia']}\")\n",
    "\n",
    "def remover_reserva(nome):\n",
    "    for reserva in reservas:\n",
    "        if reserva['nome'] == nome:\n",
    "            reservas.remove(reserva)\n",
    "            break\n",
    "\n",
    "\n",
    "adicionar_reserva(\"Diego\", \"luxo\", 10)\n",
    "adicionar_reserva(\"Rafael\", \"padrao\", 5)\n",
    "adicionar_reserva(\"Carol\", \"padrao\", 20)\n",
    "listar_reservas()\n",
    "remover_reserva(\"Rafael\")\n",
    "listar_reservas()\n"
   ]
  },
  {
   "cell_type": "markdown",
   "metadata": {},
   "source": [
    "Sistema de Gerenciamento de Estacionamento - Criar um sistema de gerenciamento de estacionamento onde os usuários possam adicionar, remover e listar carros. Cada carro deve ter marca, cor e placa. Utilize função def e/ou lambda. Além disso, para a simulação do sistema, utilize uma estrutura de repetição"
   ]
  },
  {
   "cell_type": "code",
   "execution_count": 14,
   "metadata": {},
   "outputs": [
    {
     "name": "stdout",
     "output_type": "stream",
     "text": [
      "\n",
      "Carros no Estacionamento:\n",
      "Marca: Ix35, Cor: Prata, Placa: JKO9886\n",
      "Marca: BYD Dolphin, Cor: Preto, Placa: JKO98446\n",
      "\n",
      "Carros no Estacionamento:\n",
      "Marca: Ix35, Cor: Prata, Placa: JKO9886\n"
     ]
    }
   ],
   "source": [
    "estacionamento_carros = []\n",
    "\n",
    "def adicionar_carro(marca, cor, placa):\n",
    "    carro = {'marca': marca, 'cor': cor, 'placa': placa}\n",
    "    estacionamento_carros.append(carro)\n",
    "\n",
    "def remover_carro(placa):\n",
    "    for carro in estacionamento_carros:\n",
    "        if carro['placa'] == placa:\n",
    "            estacionamento_carros.remove(carro)\n",
    "            break\n",
    "\n",
    "def listar_carros():\n",
    "    print(\"\\nCarros no Estacionamento:\")\n",
    "    for carro in estacionamento_carros:\n",
    "        print(f\"Marca: {carro['marca']}, Cor: {carro['cor']}, Placa: {carro['placa']}\")\n",
    "\n",
    "adicionar_carro(\"Ix35\", \"Prata\", 'JKO9886')\n",
    "adicionar_carro(\"BYD Dolphin\", \"Preto\", 'JKO98446')\n",
    "listar_carros()\n",
    "remover_carro('JKO98446')\n",
    "listar_carros()\n",
    "\n"
   ]
  },
  {
   "cell_type": "markdown",
   "metadata": {},
   "source": [
    "Sistema de Gestão de Projeto de Software - Criar um sistema de gestão de projeto de software onde cada projeto pode ter múltiplas tarefas associadas. Cada tarefa deve incluir um título, uma descrição, um responsável e um status (não iniciado, em andamento, concluído). O sistema deve permitir adicionar, atualizar e listar tarefas para cada projeto. Utilize estrutura com função def e/ou lambda. Explique o seu algoritmo."
   ]
  },
  {
   "cell_type": "code",
   "execution_count": 8,
   "metadata": {},
   "outputs": [
    {
     "name": "stdout",
     "output_type": "stream",
     "text": [
      "Tarefas do Projeto: Projeto Python\n"
     ]
    }
   ],
   "source": [
    "projetos = []\n",
    "\n",
    "def adicionar_projeto(nome_projeto):\n",
    "    projetos.append([nome_projeto, []])\n",
    "\n",
    "def adicionar_tarefa(nome_projeto, titulo, descricao, responsavel, status):\n",
    "    for projeto in projetos:\n",
    "        if projeto[0] == nome_projeto:\n",
    "            tarefa = [titulo, descricao, responsavel, status]\n",
    "            projeto[1].append(tarefa)\n",
    "            break\n",
    "def atualizar_tarefa(nome_projeto, titulo_tarefa, novo_titulo, nova_descricao, novo_responsavel, novo_status):\n",
    "    for projeto in projetos:\n",
    "        if projeto[0] == nome_projeto:\n",
    "            for tarefa in projeto[1]:\n",
    "                if tarefa[0] == titulo_tarefa:\n",
    "                    tarefa[0] = novo_titulo\n",
    "                    tarefa[1] = nova_descricao\n",
    "                    tarefa[2] = novo_responsavel\n",
    "                    tarefa[3] = novo_status\n",
    "                    return\n",
    "\n",
    "def listar_tarefas(nome_projeto):\n",
    "    for projeto in projetos:\n",
    "        if projeto[0] == nome_projeto:\n",
    "            print(f\"Tarefas do Projeto: {nome_projeto}\")\n",
    "            for tarefa in projeto[1]:\n",
    "                print(f\"Título: {tarefa[0]}, Descrição: {tarefa[1]}, Responsável: {tarefa[2]}, Status: {tarefa[3]}\")\n",
    "            break\n",
    "\n",
    "adicionar_projeto(\"Projeto Python\")\n",
    "adicionar_tarefa(\"Projeto CP3\", \"Tarefa 1\", \"Fazer prova\", \"Francisco\", \"Iniciado\")\n",
    "adicionar_tarefa(\"Projeto Web\", \"Tarefa 2\", \"Fazer Portfolio\", \"Caio\", \"em andamento\")\n",
    "atualizar_tarefa(\"Projeto CP4\", \"Tarefa 4\", \"Novo Semestre\", \"Prova do proximo semestre\", \"Joao da Silva\", \"em andamento\")\n",
    "listar_tarefas(\"Projeto CP4\")\n",
    "listar_tarefas('Projeto Python')\n",
    "\n",
    "\n",
    "\n"
   ]
  },
  {
   "cell_type": "markdown",
   "metadata": {},
   "source": [
    "Crie um programa com função def a qual seja possível solicitar para o usuário nome, cpf, salario para três meses. Caso o funcionário tenha salario médio acima de 10 mil, terá bonus de 15%, caso tenha salario médio abaixo de 10 mil até 5 mil, terá bônus de 10%, abaixo de 5 mil, o funcionário terá 7% de aumento. Mostre toda estrutura em python"
   ]
  },
  {
   "cell_type": "code",
   "execution_count": null,
   "metadata": {},
   "outputs": [
    {
     "name": "stdout",
     "output_type": "stream",
     "text": [
      "Funcionário: Diego\n",
      "CPF: 01073385132\n",
      "Média Salarial dos 3 meses: R$ 6666.67\n",
      "Bônus: R$ 666.67\n"
     ]
    }
   ],
   "source": [
    "def calcular_bonus_func():\n",
    "    salarios = []\n",
    "    nome = input(\"Digite o nome do funcionário: \")\n",
    "    cpf = input(\"Digite o CPF dele: \")\n",
    "\n",
    "    for i in range(3):\n",
    "        salario = float(input(f\"Digite o salário  para o mês {i + 1}: \"))\n",
    "        salarios.append(salario)\n",
    "    \n",
    "    media_salario = sum(salarios) / len(salarios)\n",
    "    \n",
    "    if media_salario > 10000:\n",
    "        bonus = media_salario * 0.15\n",
    "    elif media_salario >= 5000:\n",
    "        bonus = media_salario * 0.10\n",
    "    else:\n",
    "        bonus = media_salario * 0.07\n",
    "\n",
    "    print(f\"Funcionário: {nome}\")\n",
    "    print(f\"CPF: {cpf}\")\n",
    "    print(f\"Média Salarial dos 3 meses: R$ {media_salario:.2f}\")\n",
    "    print(f\"Bônus: R$ {bonus:.2f}\")\n",
    "\n",
    "calcular_bonus_func()\n"
   ]
  }
 ],
 "metadata": {
  "kernelspec": {
   "display_name": "Python 3",
   "language": "python",
   "name": "python3"
  },
  "language_info": {
   "codemirror_mode": {
    "name": "ipython",
    "version": 3
   },
   "file_extension": ".py",
   "mimetype": "text/x-python",
   "name": "python",
   "nbconvert_exporter": "python",
   "pygments_lexer": "ipython3",
   "version": "3.12.3"
  }
 },
 "nbformat": 4,
 "nbformat_minor": 2
}

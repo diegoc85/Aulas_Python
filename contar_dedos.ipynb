{
 "cells": [
  {
   "cell_type": "code",
   "execution_count": null,
   "metadata": {},
   "outputs": [],
   "source": [
    "pip install opencv-python"
   ]
  },
  {
   "cell_type": "code",
   "execution_count": null,
   "metadata": {},
   "outputs": [],
   "source": [
    "pip install mediapipe"
   ]
  },
  {
   "cell_type": "code",
   "execution_count": 1,
   "metadata": {},
   "outputs": [],
   "source": [
    "import cv2"
   ]
  },
  {
   "cell_type": "code",
   "execution_count": 2,
   "metadata": {},
   "outputs": [],
   "source": [
    "import mediapipe as mp"
   ]
  },
  {
   "cell_type": "code",
   "execution_count": 3,
   "metadata": {},
   "outputs": [],
   "source": [
    "video = cv2.VideoCapture(0)\n",
    "video.release()"
   ]
  },
  {
   "cell_type": "code",
   "execution_count": null,
   "metadata": {},
   "outputs": [],
   "source": [
    "\n",
    "video = cv2.VideoCapture(0) #acionando a webcam e passando como parametro a id dela\n",
    "\n",
    "hand = mp.solutions.hands # vai configurar o mediapipe\n",
    "Hand = hand.Hands(max_num_hands=1) # max de mãos que irão aparecer e vai detectar a mão\n",
    "mpDraw = mp.solutions.drawing_utils\n",
    "\n",
    "while True:\n",
    "    check,img = video.read()\n",
    "    imgRGB = cv2.cvtColor(img, cv2.COLOR_BGR2RGB) #converter a img da webcam p/ usar o mediapipe\n",
    "    results = Hand.process(imgRGB)\n",
    "    handsPoints = results.multi_hand_landmarks # onde estao os pontos dos desenhos da mao\n",
    "    h,w,_ = img.shape # extrair as dimensoes da img\n",
    "    pontos = []\n",
    "\n",
    "    if handsPoints: #codigo so executa se a variavel nao estiver vazia\n",
    "        for points in handsPoints:\n",
    "            #print(points)\n",
    "            mpDraw.draw_landmarks(img,points,hand.HAND_CONNECTIONS)\n",
    "            for id,cord in enumerate(points.landmark):\n",
    "                cx,cy = int(cord.x*w), int(cord.y*h)\n",
    "                #cv2.putText(img,str(id),(cx,cy+10),cv2.FONT_HERSHEY_SIMPLEX,0.5,(255,0,0),2)\n",
    "                pontos.append((cx,cy))\n",
    "\n",
    "        dedos = [8,12,16,20] #armazena os pontos superiores de cada dedo, exceto dedao \n",
    "        contador = 0   \n",
    "\n",
    "        if points: #logica p/ contar dedos levantados da mao esquerda\n",
    "            if pontos[4][0] < pontos[2][0]:\n",
    "                contador += 1\n",
    "            for x in dedos: \n",
    "                if pontos[x][1] < pontos[x-2][1]:\n",
    "                    contador += 1   \n",
    "\n",
    "        cv2.rectangle(img,(80,10),(200,100),(255,0,0),-1)\n",
    "        cv2.putText(img,str(contador),(100,100),cv2.FONT_HERSHEY_SIMPLEX,4,(255,255,255),5)\n",
    "\n",
    "\n",
    "\n",
    "    cv2.imshow(\"Imagem\", img)\n",
    "    cv2.waitKey(1)\n",
    "\n",
    "\n",
    "\n"
   ]
  },
  {
   "cell_type": "code",
   "execution_count": null,
   "metadata": {},
   "outputs": [],
   "source": [
    "video.release()"
   ]
  }
 ],
 "metadata": {
  "kernelspec": {
   "display_name": "Python 3",
   "language": "python",
   "name": "python3"
  },
  "language_info": {
   "codemirror_mode": {
    "name": "ipython",
    "version": 3
   },
   "file_extension": ".py",
   "mimetype": "text/x-python",
   "name": "python",
   "nbconvert_exporter": "python",
   "pygments_lexer": "ipython3",
   "version": "3.12.3"
  }
 },
 "nbformat": 4,
 "nbformat_minor": 2
}
